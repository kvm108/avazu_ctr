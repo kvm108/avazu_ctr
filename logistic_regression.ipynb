{
 "cells": [
  {
   "cell_type": "code",
   "execution_count": null,
   "metadata": {
    "scrolled": true
   },
   "outputs": [
    {
     "name": "stdout",
     "output_type": "stream",
     "text": [
      "                     id  click      hour    C1  banner_pos   site_id  \\\n0   1000009418151094273      0  14102100  1005           0  1fbe01fe   \n1  10000169349117863715      0  14102100  1005           0  1fbe01fe   \n2  10000371904215119486      0  14102100  1005           0  1fbe01fe   \n3  10000640724480838376      0  14102100  1005           0  1fbe01fe   \n4  10000679056417042096      0  14102100  1005           1  fe8cc448   \n\n  site_domain site_category    app_id app_domain ...  device_type  \\\n0    f3845767      28905ebd  ecad2386   7801e8d9 ...            1   \n1    f3845767      28905ebd  ecad2386   7801e8d9 ...            1   \n2    f3845767      28905ebd  ecad2386   7801e8d9 ...            1   \n3    f3845767      28905ebd  ecad2386   7801e8d9 ...            1   \n4    9166c161      0569f928  ecad2386   7801e8d9 ...            1   \n\n  device_conn_type    C14  C15  C16   C17  C18  C19     C20  C21  \n0                2  15706  320   50  1722    0   35      -1   79  \n1                0  15704  320   50  1722    0   35  100084   79  \n2                0  15704  320   50  1722    0   35  100084   79  \n3                0  15706  320   50  1722    0   35  100084   79  \n4                0  18993  320   50  2161    0   35      -1  157  \n\n[5 rows x 24 columns]\n"
     ]
    }
   ],
   "source": [
    "import pandas as pd\n",
    "from matplotlib import pyplot as plt\n",
    "\n",
    "#Load sample data\n",
    "# df = pd.read_csv('data/train_subset.csv', encoding='UTF-16LE')\n",
    "df = pd.read_csv('data/train_subset.csv', encoding='UTF-16LE', nrows=30)\n",
    "\n",
    "print(df.head())"
   ]
  },
  {
   "cell_type": "code",
   "execution_count": 27,
   "metadata": {},
   "outputs": [
    {
     "data": {
      "text/plain": [
       "0     0\n1     0\n2     0\n3     0\n4     0\n5     0\n6     0\n7     0\n8     1\n9     0\n10    0\n11    0\n12    0\n13    0\n14    0\n15    0\n16    0\n17    0\n18    0\n19    0\n20    0\n21    0\n22    0\n23    1\n24    0\n25    0\n26    0\n27    1\n28    0\n29    0\nName: click, dtype: int64"
      ]
     },
     "execution_count": 27,
     "metadata": {},
     "output_type": "execute_result"
    }
   ],
   "source": [
    "#Output Y - CLicks\n",
    "y = df['click']\n",
    "y"
   ]
  },
  {
   "cell_type": "code",
   "execution_count": 28,
   "metadata": {},
   "outputs": [
    {
     "data": {
      "text/plain": [
       "array([[1000009418151094273, 14102100, 1005, 0, '1fbe01fe', 'f3845767',\n        '28905ebd', 'ecad2386', '7801e8d9', '07d7df22', 'a99f214a',\n        'ddd2926e', '44956a24', 1, 2, 15706, 320, 50, 1722, 0, 35, -1,\n        79],\n       [10000169349117863715, 14102100, 1005, 0, '1fbe01fe', 'f3845767',\n        '28905ebd', 'ecad2386', '7801e8d9', '07d7df22', 'a99f214a',\n        '96809ac8', '711ee120', 1, 0, 15704, 320, 50, 1722, 0, 35,\n        100084, 79],\n       [10000371904215119486, 14102100, 1005, 0, '1fbe01fe', 'f3845767',\n        '28905ebd', 'ecad2386', '7801e8d9', '07d7df22', 'a99f214a',\n        'b3cf8def', '8a4875bd', 1, 0, 15704, 320, 50, 1722, 0, 35,\n        100084, 79],\n       [10000640724480838376, 14102100, 1005, 0, '1fbe01fe', 'f3845767',\n        '28905ebd', 'ecad2386', '7801e8d9', '07d7df22', 'a99f214a',\n        'e8275b8f', '6332421a', 1, 0, 15706, 320, 50, 1722, 0, 35,\n        100084, 79],\n       [10000679056417042096, 14102100, 1005, 1, 'fe8cc448', '9166c161',\n        '0569f928', 'ecad2386', '7801e8d9', '07d7df22', 'a99f214a',\n        '9644d0bf', '779d90c2', 1, 0, 18993, 320, 50, 2161, 0, 35, -1,\n        157],\n       [10000720757801103869, 14102100, 1005, 0, 'd6137915', 'bb1ef334',\n        'f028772b', 'ecad2386', '7801e8d9', '07d7df22', 'a99f214a',\n        '05241af0', '8a4875bd', 1, 0, 16920, 320, 50, 1899, 0, 431,\n        100077, 117],\n       [10000724729988544911, 14102100, 1005, 0, '8fda644b', '25d4cfcd',\n        'f028772b', 'ecad2386', '7801e8d9', '07d7df22', 'a99f214a',\n        'b264c159', 'be6db1d7', 1, 0, 20362, 320, 50, 2333, 0, 39, -1,\n        157],\n       [10000918755742328737, 14102100, 1005, 1, 'e151e245', '7e091613',\n        'f028772b', 'ecad2386', '7801e8d9', '07d7df22', 'a99f214a',\n        'e6f67278', 'be74e6fe', 1, 0, 20632, 320, 50, 2374, 3, 39, -1,\n        23],\n       [10000949271186029916, 14102100, 1005, 0, '1fbe01fe', 'f3845767',\n        '28905ebd', 'ecad2386', '7801e8d9', '07d7df22', 'a99f214a',\n        '37e8da74', '5db079b5', 1, 2, 15707, 320, 50, 1722, 0, 35, -1,\n        79],\n       [10001264480619467364, 14102100, 1002, 0, '84c7ba46', 'c4e18dd6',\n        '50e219e0', 'ecad2386', '7801e8d9', '07d7df22', 'c357dbff',\n        'f1ac7184', '373ecbe6', 0, 0, 21689, 320, 50, 2496, 3, 167,\n        100191, 23],\n       [10001868339616595934, 14102100, 1005, 1, 'e151e245', '7e091613',\n        'f028772b', 'ecad2386', '7801e8d9', '07d7df22', 'a99f214a',\n        '5d877109', '8f5c9827', 1, 0, 17747, 320, 50, 1974, 2, 39,\n        100019, 33],\n       [10001966791793526909, 14102100, 1005, 0, '1fbe01fe', 'f3845767',\n        '28905ebd', 'ecad2386', '7801e8d9', '07d7df22', 'a99f214a',\n        '6f407810', '1f0bc64f', 1, 0, 15701, 320, 50, 1722, 0, 35, -1,\n        79],\n       [10002028568167339219, 14102100, 1005, 0, '9e8cf15d', '0d3cb7be',\n        'f028772b', 'ecad2386', '7801e8d9', '07d7df22', 'a99f214a',\n        '58811cdf', '8326c04b', 1, 2, 20596, 320, 50, 2161, 0, 35,\n        100148, 157],\n       [10002044883120869786, 14102100, 1005, 0, 'd6137915', 'bb1ef334',\n        'f028772b', 'ecad2386', '7801e8d9', '07d7df22', 'a99f214a',\n        '72aab6df', '04258293', 1, 0, 19771, 320, 50, 2227, 0, 687,\n        100077, 48],\n       [10002518649031436658, 14102100, 1005, 0, '85f751fd', 'c4e18dd6',\n        '50e219e0', '98fed791', 'd9b5648e', '0f2161f8', 'a99f214a',\n        '6dec2796', 'aad45b01', 1, 0, 20984, 320, 50, 2371, 0, 551, -1,\n        46],\n       [10003539039235338011, 14102100, 1005, 0, '1fbe01fe', 'f3845767',\n        '28905ebd', 'ecad2386', '7801e8d9', '07d7df22', 'a99f214a',\n        'a4f47b2e', '8a4875bd', 1, 0, 15699, 320, 50, 1722, 0, 35,\n        100084, 79],\n       [10003585669470236873, 14102100, 1005, 0, 'd9750ee7', '98572c79',\n        'f028772b', 'ecad2386', '7801e8d9', '07d7df22', 'a99f214a',\n        '9b1fe278', '128f4ba1', 1, 0, 17914, 320, 50, 2043, 2, 39, -1,\n        32],\n       [10004105575081229495, 14102100, 1005, 0, '1fbe01fe', 'f3845767',\n        '28905ebd', 'ecad2386', '7801e8d9', '07d7df22', 'a99f214a',\n        'c26c53cf', 'be87996b', 1, 2, 15708, 320, 50, 1722, 0, 35,\n        100084, 79],\n       [10004181428767727519, 14102100, 1005, 1, '0c2fe9d6', '27e3c518',\n        '28905ebd', 'ecad2386', '7801e8d9', '07d7df22', 'a99f214a',\n        'b7a69808', '158e4944', 1, 0, 6558, 320, 50, 571, 2, 39, -1, 32],\n       [10004482643316086592, 14102100, 1005, 0, '85f751fd', 'c4e18dd6',\n        '50e219e0', '66a5f0f3', 'd9b5648e', 'cef3e649', 'a99f214a',\n        'fa60af6b', 'b4b19c97', 1, 0, 21234, 320, 50, 2434, 3, 163,\n        100088, 61],\n       [10004510652136496837, 14102100, 1005, 0, '543a539e', 'c7ca3108',\n        '3e814130', 'ecad2386', '7801e8d9', '07d7df22', 'a99f214a',\n        '8a308c73', '3223bcfe', 1, 0, 20352, 320, 50, 2333, 0, 39, -1,\n        157],\n       [10004574413841529209, 14102100, 1005, 0, '1fbe01fe', 'f3845767',\n        '28905ebd', 'ecad2386', '7801e8d9', '07d7df22', 'a99f214a',\n        '1b6530bc', '1aa0e912', 1, 0, 15706, 320, 50, 1722, 0, 35, -1,\n        79],\n       [10004670021948955159, 14102100, 1005, 0, '543a539e', 'c7ca3108',\n        '3e814130', 'ecad2386', '7801e8d9', '07d7df22', 'a99f214a',\n        'a2d12b33', '607e78f2', 1, 0, 20366, 320, 50, 2333, 0, 39, -1,\n        157],\n       [10004765361151096125, 14102100, 1005, 0, '1fbe01fe', 'f3845767',\n        '28905ebd', 'ecad2386', '7801e8d9', '07d7df22', 'a99f214a',\n        'c6563308', '7fdd04d2', 1, 0, 15701, 320, 50, 1722, 0, 35, -1,\n        79],\n       [10005249248600843539, 14102100, 1005, 0, '1fbe01fe', 'f3845767',\n        '28905ebd', 'ecad2386', '7801e8d9', '07d7df22', 'a99f214a',\n        'e99d0c2e', 'd25693ce', 1, 0, 15706, 320, 50, 1722, 0, 35,\n        100083, 79],\n       [10005334911727438633, 14102100, 1010, 1, '85f751fd', 'c4e18dd6',\n        '50e219e0', 'ffc6ffd0', '7801e8d9', '0f2161f8', 'fb23c543',\n        '69890c7f', '9fef9da8', 4, 0, 21665, 320, 50, 2493, 3, 35, -1,\n        117],\n       [10005541670676403131, 14102100, 1005, 1, 'e151e245', '7e091613',\n        'f028772b', 'ecad2386', '7801e8d9', '07d7df22', 'a99f214a',\n        'c62f7206', '69f9dd0e', 1, 0, 20984, 320, 50, 2371, 0, 551,\n        100217, 46],\n       [10005609489911213467, 14102100, 1005, 0, '85f751fd', 'c4e18dd6',\n        '50e219e0', '54c5d545', '2347f47a', '0f2161f8', '9af87478',\n        '2a2bfc89', 'ecf10acf', 1, 0, 21611, 320, 50, 2480, 3, 297,\n        100111, 61],\n       [10005649443863261125, 14102100, 1005, 0, '543a539e', 'c7ca3108',\n        '3e814130', 'ecad2386', '7801e8d9', '07d7df22', 'a99f214a',\n        '50d86760', 'd787e91b', 1, 0, 20366, 320, 50, 2333, 0, 39, -1,\n        157],\n       [10005951398749600249, 14102100, 1005, 0, '1fbe01fe', 'f3845767',\n        '28905ebd', 'ecad2386', '7801e8d9', '07d7df22', 'a99f214a',\n        '431b3174', 'f39b265e', 1, 0, 15706, 320, 50, 1722, 0, 35, -1,\n        79]], dtype=object)"
      ]
     },
     "execution_count": 28,
     "metadata": {},
     "output_type": "execute_result"
    }
   ],
   "source": [
    "X = df.drop(columns='click')\n",
    "type(X)\n",
    "\n",
    "index = X.index\n",
    "column = X.columns\n",
    "values = X.values\n",
    "values"
   ]
  },
  {
   "cell_type": "code",
   "execution_count": 29,
   "metadata": {},
   "outputs": [],
   "source": []
  },
  {
   "cell_type": "code",
   "execution_count": 29,
   "metadata": {},
   "outputs": [
    {
     "data": {
      "text/plain": [
       "0.1"
      ]
     },
     "execution_count": 29,
     "metadata": {},
     "output_type": "execute_result"
    }
   ],
   "source": [
    "df['click'].mean()"
   ]
  },
  {
   "cell_type": "code",
   "execution_count": 30,
   "metadata": {},
   "outputs": [
    {
     "data": {
      "text/html": [
       "<div>\n",
       "<style scoped>\n",
       "    .dataframe tbody tr th:only-of-type {\n",
       "        vertical-align: middle;\n",
       "    }\n",
       "\n",
       "    .dataframe tbody tr th {\n",
       "        vertical-align: top;\n",
       "    }\n",
       "\n",
       "    .dataframe thead th {\n",
       "        text-align: right;\n",
       "    }\n",
       "</style>\n",
       "<table border=\"1\" class=\"dataframe\">\n",
       "  <thead>\n",
       "    <tr style=\"text-align: right;\">\n",
       "      <th></th>\n",
       "      <th>id</th>\n",
       "      <th>click</th>\n",
       "      <th>hour</th>\n",
       "      <th>C1</th>\n",
       "      <th>banner_pos</th>\n",
       "      <th>device_type</th>\n",
       "      <th>device_conn_type</th>\n",
       "      <th>C14</th>\n",
       "      <th>C15</th>\n",
       "      <th>C16</th>\n",
       "      <th>C17</th>\n",
       "      <th>C18</th>\n",
       "      <th>C19</th>\n",
       "      <th>C20</th>\n",
       "      <th>C21</th>\n",
       "    </tr>\n",
       "  </thead>\n",
       "  <tbody>\n",
       "    <tr>\n",
       "      <th>count</th>\n",
       "      <td>3.000000e+01</td>\n",
       "      <td>30.000000</td>\n",
       "      <td>30.0</td>\n",
       "      <td>30.000000</td>\n",
       "      <td>30.000000</td>\n",
       "      <td>30.000000</td>\n",
       "      <td>30.000000</td>\n",
       "      <td>30.000000</td>\n",
       "      <td>30.0</td>\n",
       "      <td>30.0</td>\n",
       "      <td>30.000000</td>\n",
       "      <td>30.000000</td>\n",
       "      <td>30.000000</td>\n",
       "      <td>30.000000</td>\n",
       "      <td>30.000000</td>\n",
       "    </tr>\n",
       "    <tr>\n",
       "      <th>mean</th>\n",
       "      <td>9.702954e+18</td>\n",
       "      <td>0.100000</td>\n",
       "      <td>14102100.0</td>\n",
       "      <td>1005.066667</td>\n",
       "      <td>0.200000</td>\n",
       "      <td>1.066667</td>\n",
       "      <td>0.266667</td>\n",
       "      <td>17906.600000</td>\n",
       "      <td>320.0</td>\n",
       "      <td>50.0</td>\n",
       "      <td>2001.700000</td>\n",
       "      <td>0.700000</td>\n",
       "      <td>122.800000</td>\n",
       "      <td>46713.833333</td>\n",
       "      <td>84.300000</td>\n",
       "    </tr>\n",
       "    <tr>\n",
       "      <th>std</th>\n",
       "      <td>1.643725e+18</td>\n",
       "      <td>0.305129</td>\n",
       "      <td>0.0</td>\n",
       "      <td>1.080655</td>\n",
       "      <td>0.406838</td>\n",
       "      <td>0.583292</td>\n",
       "      <td>0.691492</td>\n",
       "      <td>3235.423093</td>\n",
       "      <td>0.0</td>\n",
       "      <td>0.0</td>\n",
       "      <td>409.035632</td>\n",
       "      <td>1.207734</td>\n",
       "      <td>184.367212</td>\n",
       "      <td>50794.010373</td>\n",
       "      <td>43.605718</td>\n",
       "    </tr>\n",
       "    <tr>\n",
       "      <th>min</th>\n",
       "      <td>1.000009e+18</td>\n",
       "      <td>0.000000</td>\n",
       "      <td>14102100.0</td>\n",
       "      <td>1002.000000</td>\n",
       "      <td>0.000000</td>\n",
       "      <td>0.000000</td>\n",
       "      <td>0.000000</td>\n",
       "      <td>6558.000000</td>\n",
       "      <td>320.0</td>\n",
       "      <td>50.0</td>\n",
       "      <td>571.000000</td>\n",
       "      <td>0.000000</td>\n",
       "      <td>35.000000</td>\n",
       "      <td>-1.000000</td>\n",
       "      <td>23.000000</td>\n",
       "    </tr>\n",
       "    <tr>\n",
       "      <th>25%</th>\n",
       "      <td>1.000093e+19</td>\n",
       "      <td>0.000000</td>\n",
       "      <td>14102100.0</td>\n",
       "      <td>1005.000000</td>\n",
       "      <td>0.000000</td>\n",
       "      <td>1.000000</td>\n",
       "      <td>0.000000</td>\n",
       "      <td>15706.000000</td>\n",
       "      <td>320.0</td>\n",
       "      <td>50.0</td>\n",
       "      <td>1722.000000</td>\n",
       "      <td>0.000000</td>\n",
       "      <td>35.000000</td>\n",
       "      <td>-1.000000</td>\n",
       "      <td>51.250000</td>\n",
       "    </tr>\n",
       "    <tr>\n",
       "      <th>50%</th>\n",
       "      <td>1.000303e+19</td>\n",
       "      <td>0.000000</td>\n",
       "      <td>14102100.0</td>\n",
       "      <td>1005.000000</td>\n",
       "      <td>0.000000</td>\n",
       "      <td>1.000000</td>\n",
       "      <td>0.000000</td>\n",
       "      <td>17830.500000</td>\n",
       "      <td>320.0</td>\n",
       "      <td>50.0</td>\n",
       "      <td>2008.500000</td>\n",
       "      <td>0.000000</td>\n",
       "      <td>37.000000</td>\n",
       "      <td>-1.000000</td>\n",
       "      <td>79.000000</td>\n",
       "    </tr>\n",
       "    <tr>\n",
       "      <th>75%</th>\n",
       "      <td>1.000465e+19</td>\n",
       "      <td>0.000000</td>\n",
       "      <td>14102100.0</td>\n",
       "      <td>1005.000000</td>\n",
       "      <td>0.000000</td>\n",
       "      <td>1.000000</td>\n",
       "      <td>0.000000</td>\n",
       "      <td>20538.500000</td>\n",
       "      <td>320.0</td>\n",
       "      <td>50.0</td>\n",
       "      <td>2333.000000</td>\n",
       "      <td>1.500000</td>\n",
       "      <td>39.000000</td>\n",
       "      <td>100084.000000</td>\n",
       "      <td>107.500000</td>\n",
       "    </tr>\n",
       "    <tr>\n",
       "      <th>max</th>\n",
       "      <td>1.000595e+19</td>\n",
       "      <td>1.000000</td>\n",
       "      <td>14102100.0</td>\n",
       "      <td>1010.000000</td>\n",
       "      <td>1.000000</td>\n",
       "      <td>4.000000</td>\n",
       "      <td>2.000000</td>\n",
       "      <td>21689.000000</td>\n",
       "      <td>320.0</td>\n",
       "      <td>50.0</td>\n",
       "      <td>2496.000000</td>\n",
       "      <td>3.000000</td>\n",
       "      <td>687.000000</td>\n",
       "      <td>100217.000000</td>\n",
       "      <td>157.000000</td>\n",
       "    </tr>\n",
       "  </tbody>\n",
       "</table>\n",
       "</div>"
      ],
      "text/plain": [
       "<div>\n",
       "<style scoped>\n",
       "    .dataframe tbody tr th:only-of-type {\n",
       "        vertical-align: middle;\n",
       "    }\n",
       "\n",
       "    .dataframe tbody tr th {\n",
       "        vertical-align: top;\n",
       "    }\n",
       "\n",
       "    .dataframe thead th {\n",
       "        text-align: right;\n",
       "    }\n",
       "</style>\n",
       "<table border=\"1\" class=\"dataframe\">\n",
       "  <thead>\n",
       "    <tr style=\"text-align: right;\">\n",
       "      <th></th>\n",
       "      <th>id</th>\n",
       "      <th>click</th>\n",
       "      <th>hour</th>\n",
       "      <th>C1</th>\n",
       "      <th>banner_pos</th>\n",
       "      <th>device_type</th>\n",
       "      <th>device_conn_type</th>\n",
       "      <th>C14</th>\n",
       "      <th>C15</th>\n",
       "      <th>C16</th>\n",
       "      <th>C17</th>\n",
       "      <th>C18</th>\n",
       "      <th>C19</th>\n",
       "      <th>C20</th>\n",
       "      <th>C21</th>\n",
       "    </tr>\n",
       "  </thead>\n",
       "  <tbody>\n",
       "    <tr>\n",
       "      <th>count</th>\n",
       "      <td>3.000000e+01</td>\n",
       "      <td>30.000000</td>\n",
       "      <td>30.0</td>\n",
       "      <td>30.000000</td>\n",
       "      <td>30.000000</td>\n",
       "      <td>30.000000</td>\n",
       "      <td>30.000000</td>\n",
       "      <td>30.000000</td>\n",
       "      <td>30.0</td>\n",
       "      <td>30.0</td>\n",
       "      <td>30.000000</td>\n",
       "      <td>30.000000</td>\n",
       "      <td>30.000000</td>\n",
       "      <td>30.000000</td>\n",
       "      <td>30.000000</td>\n",
       "    </tr>\n",
       "    <tr>\n",
       "      <th>mean</th>\n",
       "      <td>9.702954e+18</td>\n",
       "      <td>0.100000</td>\n",
       "      <td>14102100.0</td>\n",
       "      <td>1005.066667</td>\n",
       "      <td>0.200000</td>\n",
       "      <td>1.066667</td>\n",
       "      <td>0.266667</td>\n",
       "      <td>17906.600000</td>\n",
       "      <td>320.0</td>\n",
       "      <td>50.0</td>\n",
       "      <td>2001.700000</td>\n",
       "      <td>0.700000</td>\n",
       "      <td>122.800000</td>\n",
       "      <td>46713.833333</td>\n",
       "      <td>84.300000</td>\n",
       "    </tr>\n",
       "    <tr>\n",
       "      <th>std</th>\n",
       "      <td>1.643725e+18</td>\n",
       "      <td>0.305129</td>\n",
       "      <td>0.0</td>\n",
       "      <td>1.080655</td>\n",
       "      <td>0.406838</td>\n",
       "      <td>0.583292</td>\n",
       "      <td>0.691492</td>\n",
       "      <td>3235.423093</td>\n",
       "      <td>0.0</td>\n",
       "      <td>0.0</td>\n",
       "      <td>409.035632</td>\n",
       "      <td>1.207734</td>\n",
       "      <td>184.367212</td>\n",
       "      <td>50794.010373</td>\n",
       "      <td>43.605718</td>\n",
       "    </tr>\n",
       "    <tr>\n",
       "      <th>min</th>\n",
       "      <td>1.000009e+18</td>\n",
       "      <td>0.000000</td>\n",
       "      <td>14102100.0</td>\n",
       "      <td>1002.000000</td>\n",
       "      <td>0.000000</td>\n",
       "      <td>0.000000</td>\n",
       "      <td>0.000000</td>\n",
       "      <td>6558.000000</td>\n",
       "      <td>320.0</td>\n",
       "      <td>50.0</td>\n",
       "      <td>571.000000</td>\n",
       "      <td>0.000000</td>\n",
       "      <td>35.000000</td>\n",
       "      <td>-1.000000</td>\n",
       "      <td>23.000000</td>\n",
       "    </tr>\n",
       "    <tr>\n",
       "      <th>25%</th>\n",
       "      <td>1.000093e+19</td>\n",
       "      <td>0.000000</td>\n",
       "      <td>14102100.0</td>\n",
       "      <td>1005.000000</td>\n",
       "      <td>0.000000</td>\n",
       "      <td>1.000000</td>\n",
       "      <td>0.000000</td>\n",
       "      <td>15706.000000</td>\n",
       "      <td>320.0</td>\n",
       "      <td>50.0</td>\n",
       "      <td>1722.000000</td>\n",
       "      <td>0.000000</td>\n",
       "      <td>35.000000</td>\n",
       "      <td>-1.000000</td>\n",
       "      <td>51.250000</td>\n",
       "    </tr>\n",
       "    <tr>\n",
       "      <th>50%</th>\n",
       "      <td>1.000303e+19</td>\n",
       "      <td>0.000000</td>\n",
       "      <td>14102100.0</td>\n",
       "      <td>1005.000000</td>\n",
       "      <td>0.000000</td>\n",
       "      <td>1.000000</td>\n",
       "      <td>0.000000</td>\n",
       "      <td>17830.500000</td>\n",
       "      <td>320.0</td>\n",
       "      <td>50.0</td>\n",
       "      <td>2008.500000</td>\n",
       "      <td>0.000000</td>\n",
       "      <td>37.000000</td>\n",
       "      <td>-1.000000</td>\n",
       "      <td>79.000000</td>\n",
       "    </tr>\n",
       "    <tr>\n",
       "      <th>75%</th>\n",
       "      <td>1.000465e+19</td>\n",
       "      <td>0.000000</td>\n",
       "      <td>14102100.0</td>\n",
       "      <td>1005.000000</td>\n",
       "      <td>0.000000</td>\n",
       "      <td>1.000000</td>\n",
       "      <td>0.000000</td>\n",
       "      <td>20538.500000</td>\n",
       "      <td>320.0</td>\n",
       "      <td>50.0</td>\n",
       "      <td>2333.000000</td>\n",
       "      <td>1.500000</td>\n",
       "      <td>39.000000</td>\n",
       "      <td>100084.000000</td>\n",
       "      <td>107.500000</td>\n",
       "    </tr>\n",
       "    <tr>\n",
       "      <th>max</th>\n",
       "      <td>1.000595e+19</td>\n",
       "      <td>1.000000</td>\n",
       "      <td>14102100.0</td>\n",
       "      <td>1010.000000</td>\n",
       "      <td>1.000000</td>\n",
       "      <td>4.000000</td>\n",
       "      <td>2.000000</td>\n",
       "      <td>21689.000000</td>\n",
       "      <td>320.0</td>\n",
       "      <td>50.0</td>\n",
       "      <td>2496.000000</td>\n",
       "      <td>3.000000</td>\n",
       "      <td>687.000000</td>\n",
       "      <td>100217.000000</td>\n",
       "      <td>157.000000</td>\n",
       "    </tr>\n",
       "  </tbody>\n",
       "</table>\n",
       "</div>"
      ]
     },
     "execution_count": 30,
     "metadata": {},
     "output_type": "execute_result"
    }
   ],
   "source": [
    "df.describe()"
   ]
  },
  {
   "cell_type": "code",
   "execution_count": 31,
   "metadata": {},
   "outputs": [],
   "source": []
  },
  {
   "cell_type": "code",
   "execution_count": 31,
   "metadata": {},
   "outputs": [
    {
     "name": "stdout",
     "output_type": "stream",
     "text": [
      "                       id     click        hour      C1  banner_pos  \\\ndevice_type                                                           \n0           -8.445480e+18  0.000000  14102100.0  1002.0    0.000000   \n1           -8.106431e+18  0.107143  14102100.0  1005.0    0.178571   \n4           -8.441409e+18  0.000000  14102100.0  1010.0    1.000000   \n\n             device_conn_type           C14    C15   C16     C17       C18  \\\ndevice_type                                                                  \n0                    0.000000  21689.000000  320.0  50.0  2496.0  3.000000   \n1                    0.285714  17637.285714  320.0  50.0  1966.5  0.535714   \n4                    0.000000  21665.000000  320.0  50.0  2493.0  3.000000   \n\n                    C19            C20         C21  \ndevice_type                                         \n0            167.000000  100191.000000   23.000000  \n1            124.357143   46472.321429   85.321429  \n4             35.000000      -1.000000  117.000000  \n                      id  click        hour           C1  device_type  \\\nbanner_pos                                                              \n0          -8.050209e+18  0.125  14102100.0  1004.875000     0.958333   \n1          -8.443657e+18  0.000  14102100.0  1005.833333     1.500000   \n\n            device_conn_type           C14    C15   C16          C17  \\\nbanner_pos                                                             \n0                   0.333333  17942.458333  320.0  50.0  2004.458333   \n1                   0.000000  17763.166667  320.0  50.0  1990.666667   \n\n                 C18     C19           C20     C21  \nbanner_pos                                          \n0           0.458333  122.75  50049.291667  88.375  \n1           1.666667  123.00  33372.000000  68.000  \n"
     ]
    }
   ],
   "source": [
    "#TODO continue - https://github.com/scentellegher/code_snippets/blob/master/pandas_groupby_unstack/Plot_groupby_multiple_columns_unstack.ipynb\n",
    "#Feature device type\n",
    "dt = df.groupby(['device_type']).mean()\n",
    "print(dt)\n",
    "\n",
    "#todo 2 sum of banner pos and mean of clicks\n",
    "bp = df.groupby(['banner_pos']).mean()\n",
    "print(bp)\n",
    "# dt['click']\n",
    "#Large number of clicks are from device 1! \n",
    "\n",
    "#Scatter plot\n",
    "# sns.pairplot(dt)"
   ]
  },
  {
   "cell_type": "code",
   "execution_count": 32,
   "metadata": {},
   "outputs": [],
   "source": []
  },
  {
   "cell_type": "code",
   "execution_count": 32,
   "metadata": {},
   "outputs": [
    {
     "ename": "ModuleNotFoundError",
     "evalue": "No module named 'seaborn'",
     "traceback": [
      "\u001b[1;31m---------------------------------------------------------------------------\u001b[0m",
      "\u001b[1;31mModuleNotFoundError\u001b[0m                       Traceback (most recent call last)",
      "\u001b[1;32m<ipython-input-32-1fd7da1bc14d>\u001b[0m in \u001b[0;36m<module>\u001b[1;34m()\u001b[0m\n\u001b[1;32m----> 1\u001b[1;33m \u001b[1;32mimport\u001b[0m \u001b[0mseaborn\u001b[0m \u001b[1;32mas\u001b[0m \u001b[0msns\u001b[0m\u001b[1;33m\u001b[0m\u001b[0m\n\u001b[0m\u001b[0;32m      2\u001b[0m \u001b[0mcorr\u001b[0m \u001b[1;33m=\u001b[0m \u001b[0mdf\u001b[0m\u001b[1;33m.\u001b[0m\u001b[0mcorr\u001b[0m\u001b[1;33m(\u001b[0m\u001b[1;33m)\u001b[0m\u001b[1;33m\u001b[0m\u001b[0m\n\u001b[0;32m      3\u001b[0m sns.heatmap(corr, \n\u001b[0;32m      4\u001b[0m             \u001b[0mxticklabels\u001b[0m\u001b[1;33m=\u001b[0m\u001b[0mcorr\u001b[0m\u001b[1;33m.\u001b[0m\u001b[0mcolumns\u001b[0m\u001b[1;33m.\u001b[0m\u001b[0mvalues\u001b[0m\u001b[1;33m,\u001b[0m\u001b[1;33m\u001b[0m\u001b[0m\n\u001b[0;32m      5\u001b[0m             yticklabels=corr.columns.values)\n",
      "\u001b[1;31mModuleNotFoundError\u001b[0m: No module named 'seaborn'"
     ],
     "output_type": "error"
    }
   ],
   "source": [
    "import seaborn as sns\n",
    "corr = df.corr()\n",
    "sns.heatmap(corr, \n",
    "            xticklabels=corr.columns.values,\n",
    "            yticklabels=corr.columns.values)"
   ]
  },
  {
   "cell_type": "code",
   "execution_count": 33,
   "metadata": {},
   "outputs": [
    {
     "data": {
      "text/plain": [
       "<matplotlib.image.AxesImage at 0x22a082ccc50>"
      ]
     },
     "execution_count": 33,
     "metadata": {},
     "output_type": "execute_result"
    },
    {
     "data": {
      "image/png": "[encoded data removed]",
      "text/plain": [
       "<Figure size 288x288 with 1 Axes>"
      ]
     },
     "metadata": {},
     "output_type": "display_data"
    }
   ],
   "source": [
    "\n",
    "plt.matshow(df.corr())"
   ]
  },
  {
   "cell_type": "code",
   "execution_count": 34,
   "metadata": {},
   "outputs": [
    {
     "ename": "NameError",
     "evalue": "name 'sns' is not defined",
     "traceback": [
      "\u001b[1;31m---------------------------------------------------------------------------\u001b[0m",
      "\u001b[1;31mNameError\u001b[0m                                 Traceback (most recent call last)",
      "\u001b[1;32m<ipython-input-34-5a4429862638>\u001b[0m in \u001b[0;36m<module>\u001b[1;34m()\u001b[0m\n\u001b[0;32m      1\u001b[0m \u001b[1;31m#Scatter plot\u001b[0m\u001b[1;33m\u001b[0m\u001b[1;33m\u001b[0m\u001b[0m\n\u001b[1;32m----> 2\u001b[1;33m \u001b[0msns\u001b[0m\u001b[1;33m.\u001b[0m\u001b[0mpairplot\u001b[0m\u001b[1;33m(\u001b[0m\u001b[0mdf\u001b[0m\u001b[1;33m)\u001b[0m\u001b[1;33m\u001b[0m\u001b[0m\n\u001b[0m",
      "\u001b[1;31mNameError\u001b[0m: name 'sns' is not defined"
     ],
     "output_type": "error"
    }
   ],
   "source": [
    "#Scatter plot\n",
    "sns.pairplot(df)"
   ]
  },
  {
   "cell_type": "code",
   "execution_count": 35,
   "metadata": {},
   "outputs": [
    {
     "data": {
      "text/plain": [
       "id                  uint64\nclick                int64\nhour                 int64\nC1                   int64\nbanner_pos           int64\nsite_id             object\nsite_domain         object\nsite_category       object\napp_id              object\napp_domain          object\napp_category        object\ndevice_id           object\ndevice_ip           object\ndevice_model        object\ndevice_type          int64\ndevice_conn_type     int64\nC14                  int64\nC15                  int64\nC16                  int64\nC17                  int64\nC18                  int64\nC19                  int64\nC20                  int64\nC21                  int64\ndtype: object"
      ]
     },
     "execution_count": 35,
     "metadata": {},
     "output_type": "execute_result"
    }
   ],
   "source": [
    "df.dtypes"
   ]
  },
  {
   "cell_type": "code",
   "execution_count": 36,
   "metadata": {
    "scrolled": true
   },
   "outputs": [
    {
     "data": {
      "text/plain": [
       "(                      id  click      hour    C1  banner_pos  device_type  \\\n 0    1000009418151094273      0  14102100  1005           0            1   \n 1   10000169349117863715      0  14102100  1005           0            1   \n 2   10000371904215119486      0  14102100  1005           0            1   \n 3   10000640724480838376      0  14102100  1005           0            1   \n 4   10000679056417042096      0  14102100  1005           1            1   \n 5   10000720757801103869      0  14102100  1005           0            1   \n 6   10000724729988544911      0  14102100  1005           0            1   \n 7   10000918755742328737      0  14102100  1005           1            1   \n 8   10000949271186029916      1  14102100  1005           0            1   \n 9   10001264480619467364      0  14102100  1002           0            0   \n 10  10001868339616595934      0  14102100  1005           1            1   \n 11  10001966791793526909      0  14102100  1005           0            1   \n 12  10002028568167339219      0  14102100  1005           0            1   \n 13  10002044883120869786      0  14102100  1005           0            1   \n 14  10002518649031436658      0  14102100  1005           0            1   \n 15  10003539039235338011      0  14102100  1005           0            1   \n 16  10003585669470236873      0  14102100  1005           0            1   \n 17  10004105575081229495      0  14102100  1005           0            1   \n 18  10004181428767727519      0  14102100  1005           1            1   \n 19  10004482643316086592      0  14102100  1005           0            1   \n 20  10004510652136496837      0  14102100  1005           0            1   \n 21  10004574413841529209      0  14102100  1005           0            1   \n 22  10004670021948955159      0  14102100  1005           0            1   \n 23  10004765361151096125      1  14102100  1005           0            1   \n 24  10005249248600843539      0  14102100  1005           0            1   \n 25  10005334911727438633      0  14102100  1010           1            4   \n 26  10005541670676403131      0  14102100  1005           1            1   \n 27  10005609489911213467      1  14102100  1005           0            1   \n 28  10005649443863261125      0  14102100  1005           0            1   \n 29  10005951398749600249      0  14102100  1005           0            1   \n \n     device_conn_type    C14  C15  C16          ...            \\\n 0                  2  15706  320   50          ...             \n 1                  0  15704  320   50          ...             \n 2                  0  15704  320   50          ...             \n 3                  0  15706  320   50          ...             \n 4                  0  18993  320   50          ...             \n 5                  0  16920  320   50          ...             \n 6                  0  20362  320   50          ...             \n 7                  0  20632  320   50          ...             \n 8                  2  15707  320   50          ...             \n 9                  0  21689  320   50          ...             \n 10                 0  17747  320   50          ...             \n 11                 0  15701  320   50          ...             \n 12                 2  20596  320   50          ...             \n 13                 0  19771  320   50          ...             \n 14                 0  20984  320   50          ...             \n 15                 0  15699  320   50          ...             \n 16                 0  17914  320   50          ...             \n 17                 2  15708  320   50          ...             \n 18                 0   6558  320   50          ...             \n 19                 0  21234  320   50          ...             \n 20                 0  20352  320   50          ...             \n 21                 0  15706  320   50          ...             \n 22                 0  20366  320   50          ...             \n 23                 0  15701  320   50          ...             \n 24                 0  15706  320   50          ...             \n 25                 0  21665  320   50          ...             \n 26                 0  20984  320   50          ...             \n 27                 0  21611  320   50          ...             \n 28                 0  20366  320   50          ...             \n 29                 0  15706  320   50          ...             \n \n     device_model_9fef9da8  device_model_aad45b01  device_model_b4b19c97  \\\n 0                       0                      0                      0   \n 1                       0                      0                      0   \n 2                       0                      0                      0   \n 3                       0                      0                      0   \n 4                       0                      0                      0   \n 5                       0                      0                      0   \n 6                       0                      0                      0   \n 7                       0                      0                      0   \n 8                       0                      0                      0   \n 9                       0                      0                      0   \n 10                      0                      0                      0   \n 11                      0                      0                      0   \n 12                      0                      0                      0   \n 13                      0                      0                      0   \n 14                      0                      1                      0   \n 15                      0                      0                      0   \n 16                      0                      0                      0   \n 17                      0                      0                      0   \n 18                      0                      0                      0   \n 19                      0                      0                      1   \n 20                      0                      0                      0   \n 21                      0                      0                      0   \n 22                      0                      0                      0   \n 23                      0                      0                      0   \n 24                      0                      0                      0   \n 25                      1                      0                      0   \n 26                      0                      0                      0   \n 27                      0                      0                      0   \n 28                      0                      0                      0   \n 29                      0                      0                      0   \n \n     device_model_be6db1d7  device_model_be74e6fe  device_model_be87996b  \\\n 0                       0                      0                      0   \n 1                       0                      0                      0   \n 2                       0                      0                      0   \n 3                       0                      0                      0   \n 4                       0                      0                      0   \n 5                       0                      0                      0   \n 6                       1                      0                      0   \n 7                       0                      1                      0   \n 8                       0                      0                      0   \n 9                       0                      0                      0   \n 10                      0                      0                      0   \n 11                      0                      0                      0   \n 12                      0                      0                      0   \n 13                      0                      0                      0   \n 14                      0                      0                      0   \n 15                      0                      0                      0   \n 16                      0                      0                      0   \n 17                      0                      0                      1   \n 18                      0                      0                      0   \n 19                      0                      0                      0   \n 20                      0                      0                      0   \n 21                      0                      0                      0   \n 22                      0                      0                      0   \n 23                      0                      0                      0   \n 24                      0                      0                      0   \n 25                      0                      0                      0   \n 26                      0                      0                      0   \n 27                      0                      0                      0   \n 28                      0                      0                      0   \n 29                      0                      0                      0   \n \n     device_model_d25693ce  device_model_d787e91b  device_model_ecf10acf  \\\n 0                       0                      0                      0   \n 1                       0                      0                      0   \n 2                       0                      0                      0   \n 3                       0                      0                      0   \n 4                       0                      0                      0   \n 5                       0                      0                      0   \n 6                       0                      0                      0   \n 7                       0                      0                      0   \n 8                       0                      0                      0   \n 9                       0                      0                      0   \n 10                      0                      0                      0   \n 11                      0                      0                      0   \n 12                      0                      0                      0   \n 13                      0                      0                      0   \n 14                      0                      0                      0   \n 15                      0                      0                      0   \n 16                      0                      0                      0   \n 17                      0                      0                      0   \n 18                      0                      0                      0   \n 19                      0                      0                      0   \n 20                      0                      0                      0   \n 21                      0                      0                      0   \n 22                      0                      0                      0   \n 23                      0                      0                      0   \n 24                      1                      0                      0   \n 25                      0                      0                      0   \n 26                      0                      0                      0   \n 27                      0                      0                      1   \n 28                      0                      1                      0   \n 29                      0                      0                      0   \n \n     device_model_f39b265e  \n 0                       0  \n 1                       0  \n 2                       0  \n 3                       0  \n 4                       0  \n 5                       0  \n 6                       0  \n 7                       0  \n 8                       0  \n 9                       0  \n 10                      0  \n 11                      0  \n 12                      0  \n 13                      0  \n 14                      0  \n 15                      0  \n 16                      0  \n 17                      0  \n 18                      0  \n 19                      0  \n 20                      0  \n 21                      0  \n 22                      0  \n 23                      0  \n 24                      0  \n 25                      0  \n 26                      0  \n 27                      0  \n 28                      0  \n 29                      1  \n \n [30 rows x 114 columns], 0     0\n 1     0\n 2     0\n 3     0\n 4     0\n 5     0\n 6     0\n 7     0\n 8     1\n 9     0\n 10    0\n 11    0\n 12    0\n 13    0\n 14    0\n 15    0\n 16    0\n 17    0\n 18    0\n 19    0\n 20    0\n 21    0\n 22    0\n 23    1\n 24    0\n 25    0\n 26    0\n 27    1\n 28    0\n 29    0\n Name: click, dtype: int64)"
      ]
     },
     "execution_count": 36,
     "metadata": {},
     "output_type": "execute_result"
    }
   ],
   "source": [
    "cat_data = df.select_dtypes(include='object')\n",
    "cat_data.columns\n",
    "\n",
    "data = pd.get_dummies(df, columns=list(cat_data.columns))\n",
    "data, y"
   ]
  },
  {
   "cell_type": "code",
   "execution_count": 37,
   "metadata": {},
   "outputs": [],
   "source": [
    "from sklearn.linear_model import LogisticRegression\n",
    "\n",
    "logreg_cls = LogisticRegression(random_state=0)"
   ]
  },
  {
   "cell_type": "code",
   "execution_count": 38,
   "metadata": {
    "collapsed": true
   },
   "outputs": [
    {
     "data": {
      "text/plain": [
       "(                      id  click      hour    C1  banner_pos  device_type  \\\n 17  10004105575081229495      0  14102100  1005           0            1   \n 22  10004670021948955159      0  14102100  1005           0            1   \n 5   10000720757801103869      0  14102100  1005           0            1   \n 16  10003585669470236873      0  14102100  1005           0            1   \n 8   10000949271186029916      1  14102100  1005           0            1   \n 14  10002518649031436658      0  14102100  1005           0            1   \n 23  10004765361151096125      1  14102100  1005           0            1   \n 20  10004510652136496837      0  14102100  1005           0            1   \n 1   10000169349117863715      0  14102100  1005           0            1   \n 29  10005951398749600249      0  14102100  1005           0            1   \n 6   10000724729988544911      0  14102100  1005           0            1   \n 4   10000679056417042096      0  14102100  1005           1            1   \n 18  10004181428767727519      0  14102100  1005           1            1   \n 19  10004482643316086592      0  14102100  1005           0            1   \n 9   10001264480619467364      0  14102100  1002           0            0   \n 7   10000918755742328737      0  14102100  1005           1            1   \n 25  10005334911727438633      0  14102100  1010           1            4   \n 3   10000640724480838376      0  14102100  1005           0            1   \n 0    1000009418151094273      0  14102100  1005           0            1   \n 21  10004574413841529209      0  14102100  1005           0            1   \n 15  10003539039235338011      0  14102100  1005           0            1   \n 12  10002028568167339219      0  14102100  1005           0            1   \n \n     device_conn_type    C14  C15  C16          ...            \\\n 17                 2  15708  320   50          ...             \n 22                 0  20366  320   50          ...             \n 5                  0  16920  320   50          ...             \n 16                 0  17914  320   50          ...             \n 8                  2  15707  320   50          ...             \n 14                 0  20984  320   50          ...             \n 23                 0  15701  320   50          ...             \n 20                 0  20352  320   50          ...             \n 1                  0  15704  320   50          ...             \n 29                 0  15706  320   50          ...             \n 6                  0  20362  320   50          ...             \n 4                  0  18993  320   50          ...             \n 18                 0   6558  320   50          ...             \n 19                 0  21234  320   50          ...             \n 9                  0  21689  320   50          ...             \n 7                  0  20632  320   50          ...             \n 25                 0  21665  320   50          ...             \n 3                  0  15706  320   50          ...             \n 0                  2  15706  320   50          ...             \n 21                 0  15706  320   50          ...             \n 15                 0  15699  320   50          ...             \n 12                 2  20596  320   50          ...             \n \n     device_model_9fef9da8  device_model_aad45b01  device_model_b4b19c97  \\\n 17                      0                      0                      0   \n 22                      0                      0                      0   \n 5                       0                      0                      0   \n 16                      0                      0                      0   \n 8                       0                      0                      0   \n 14                      0                      1                      0   \n 23                      0                      0                      0   \n 20                      0                      0                      0   \n 1                       0                      0                      0   \n 29                      0                      0                      0   \n 6                       0                      0                      0   \n 4                       0                      0                      0   \n 18                      0                      0                      0   \n 19                      0                      0                      1   \n 9                       0                      0                      0   \n 7                       0                      0                      0   \n 25                      1                      0                      0   \n 3                       0                      0                      0   \n 0                       0                      0                      0   \n 21                      0                      0                      0   \n 15                      0                      0                      0   \n 12                      0                      0                      0   \n \n     device_model_be6db1d7  device_model_be74e6fe  device_model_be87996b  \\\n 17                      0                      0                      1   \n 22                      0                      0                      0   \n 5                       0                      0                      0   \n 16                      0                      0                      0   \n 8                       0                      0                      0   \n 14                      0                      0                      0   \n 23                      0                      0                      0   \n 20                      0                      0                      0   \n 1                       0                      0                      0   \n 29                      0                      0                      0   \n 6                       1                      0                      0   \n 4                       0                      0                      0   \n 18                      0                      0                      0   \n 19                      0                      0                      0   \n 9                       0                      0                      0   \n 7                       0                      1                      0   \n 25                      0                      0                      0   \n 3                       0                      0                      0   \n 0                       0                      0                      0   \n 21                      0                      0                      0   \n 15                      0                      0                      0   \n 12                      0                      0                      0   \n \n     device_model_d25693ce  device_model_d787e91b  device_model_ecf10acf  \\\n 17                      0                      0                      0   \n 22                      0                      0                      0   \n 5                       0                      0                      0   \n 16                      0                      0                      0   \n 8                       0                      0                      0   \n 14                      0                      0                      0   \n 23                      0                      0                      0   \n 20                      0                      0                      0   \n 1                       0                      0                      0   \n 29                      0                      0                      0   \n 6                       0                      0                      0   \n 4                       0                      0                      0   \n 18                      0                      0                      0   \n 19                      0                      0                      0   \n 9                       0                      0                      0   \n 7                       0                      0                      0   \n 25                      0                      0                      0   \n 3                       0                      0                      0   \n 0                       0                      0                      0   \n 21                      0                      0                      0   \n 15                      0                      0                      0   \n 12                      0                      0                      0   \n \n     device_model_f39b265e  \n 17                      0  \n 22                      0  \n 5                       0  \n 16                      0  \n 8                       0  \n 14                      0  \n 23                      0  \n 20                      0  \n 1                       0  \n 29                      1  \n 6                       0  \n 4                       0  \n 18                      0  \n 19                      0  \n 9                       0  \n 7                       0  \n 25                      0  \n 3                       0  \n 0                       0  \n 21                      0  \n 15                      0  \n 12                      0  \n \n [22 rows x 114 columns],\n                       id  click      hour    C1  banner_pos  device_type  \\\n 2   10000371904215119486      0  14102100  1005           0            1   \n 28  10005649443863261125      0  14102100  1005           0            1   \n 13  10002044883120869786      0  14102100  1005           0            1   \n 10  10001868339616595934      0  14102100  1005           1            1   \n 26  10005541670676403131      0  14102100  1005           1            1   \n 24  10005249248600843539      0  14102100  1005           0            1   \n 27  10005609489911213467      1  14102100  1005           0            1   \n 11  10001966791793526909      0  14102100  1005           0            1   \n \n     device_conn_type    C14  C15  C16          ...            \\\n 2                  0  15704  320   50          ...             \n 28                 0  20366  320   50          ...             \n 13                 0  19771  320   50          ...             \n 10                 0  17747  320   50          ...             \n 26                 0  20984  320   50          ...             \n 24                 0  15706  320   50          ...             \n 27                 0  21611  320   50          ...             \n 11                 0  15701  320   50          ...             \n \n     device_model_9fef9da8  device_model_aad45b01  device_model_b4b19c97  \\\n 2                       0                      0                      0   \n 28                      0                      0                      0   \n 13                      0                      0                      0   \n 10                      0                      0                      0   \n 26                      0                      0                      0   \n 24                      0                      0                      0   \n 27                      0                      0                      0   \n 11                      0                      0                      0   \n \n     device_model_be6db1d7  device_model_be74e6fe  device_model_be87996b  \\\n 2                       0                      0                      0   \n 28                      0                      0                      0   \n 13                      0                      0                      0   \n 10                      0                      0                      0   \n 26                      0                      0                      0   \n 24                      0                      0                      0   \n 27                      0                      0                      0   \n 11                      0                      0                      0   \n \n     device_model_d25693ce  device_model_d787e91b  device_model_ecf10acf  \\\n 2                       0                      0                      0   \n 28                      0                      1                      0   \n 13                      0                      0                      0   \n 10                      0                      0                      0   \n 26                      0                      0                      0   \n 24                      1                      0                      0   \n 27                      0                      0                      1   \n 11                      0                      0                      0   \n \n     device_model_f39b265e  \n 2                       0  \n 28                      0  \n 13                      0  \n 10                      0  \n 26                      0  \n 24                      0  \n 27                      0  \n 11                      0  \n \n [8 rows x 114 columns],\n 17    0\n 22    0\n 5     0\n 16    0\n 8     1\n 14    0\n 23    1\n 20    0\n 1     0\n 29    0\n 6     0\n 4     0\n 18    0\n 19    0\n 9     0\n 7     0\n 25    0\n 3     0\n 0     0\n 21    0\n 15    0\n 12    0\n Name: click, dtype: int64,\n 2     0\n 28    0\n 13    0\n 10    0\n 26    0\n 24    0\n 27    1\n 11    0\n Name: click, dtype: int64)"
      ]
     },
     "execution_count": 38,
     "metadata": {},
     "output_type": "execute_result"
    }
   ],
   "source": [
    "from sklearn.model_selection import train_test_split\n",
    "\n",
    "X_train, X_test, y_train, y_test = train_test_split(data, y, random_state=0)\n",
    "X_train, X_test, y_train, y_test"
   ]
  },
  {
   "cell_type": "code",
   "execution_count": 39,
   "metadata": {},
   "outputs": [
    {
     "data": {
      "text/plain": [
       "LogisticRegression(C=1.0, class_weight=None, dual=False, fit_intercept=True,\n          intercept_scaling=1, max_iter=100, multi_class='ovr', n_jobs=1,\n          penalty='l2', random_state=0, solver='liblinear', tol=0.0001,\n          verbose=0, warm_start=False)"
      ]
     },
     "execution_count": 39,
     "metadata": {},
     "output_type": "execute_result"
    }
   ],
   "source": [
    "logreg_cls.fit(X_train, y_train)"
   ]
  },
  {
   "cell_type": "code",
   "execution_count": 40,
   "metadata": {},
   "outputs": [],
   "source": [
    "y_pred = logreg_cls.predict(X_test)"
   ]
  },
  {
   "cell_type": "code",
   "execution_count": 41,
   "metadata": {},
   "outputs": [
    {
     "data": {
      "text/plain": [
       "0.875"
      ]
     },
     "execution_count": 41,
     "metadata": {},
     "output_type": "execute_result"
    }
   ],
   "source": [
    "import numpy as np\n",
    "\n",
    "accuracy = np.sum(y_test == y_pred)\n",
    "accuracy/y_test.shape[0]"
   ]
  },
  {
   "cell_type": "code",
   "execution_count": 42,
   "metadata": {},
   "outputs": [
    {
     "data": {
      "text/plain": [
       "0.875"
      ]
     },
     "execution_count": 42,
     "metadata": {},
     "output_type": "execute_result"
    }
   ],
   "source": [
    "from sklearn.metrics import accuracy_score\n",
    "acc = accuracy_score(y_pred, y_test)\n",
    "acc"
   ]
  },
  {
   "cell_type": "code",
   "execution_count": 43,
   "metadata": {},
   "outputs": [],
   "source": []
  },
  {
   "cell_type": "code",
   "execution_count": 43,
   "metadata": {},
   "outputs": [
    {
     "name": "stderr",
     "output_type": "stream",
     "text": [
      "'pwd' is not recognized as an internal or external command,\noperable program or batch file.\n"
     ]
    }
   ],
   "source": [
    ""
   ]
  },
  {
   "cell_type": "code",
   "execution_count": 44,
   "metadata": {},
   "outputs": [
    {
     "name": "stderr",
     "output_type": "stream",
     "text": [
      "'ls' is not recognized as an internal or external command,\noperable program or batch file.\n"
     ]
    }
   ],
   "source": [
    ""
   ]
  },
  {
   "cell_type": "code",
   "execution_count": 45,
   "metadata": {},
   "outputs": [
    {
     "name": "stderr",
     "output_type": "stream",
     "text": [
      "'cat' is not recognized as an internal or external command,\noperable program or batch file.\n"
     ]
    }
   ],
   "source": [
    "\n"
   ]
  },
  {
   "cell_type": "code",
   "execution_count": 46,
   "metadata": {},
   "outputs": [],
   "source": []
  },
  {
   "cell_type": "code",
   "execution_count": 46,
   "metadata": {},
   "outputs": [],
   "source": []
  }
 ],
 "metadata": {
  "kernelspec": {
   "display_name": "Python 3",
   "language": "python",
   "name": "python3"
  },
  "language_info": {
   "codemirror_mode": {
    "name": "ipython",
    "version": 3
   },
   "file_extension": ".py",
   "mimetype": "text/x-python",
   "name": "python",
   "nbconvert_exporter": "python",
   "pygments_lexer": "ipython3",
   "version": "3.6.4"
  }
 },
 "nbformat": 4,
 "nbformat_minor": 2
}
