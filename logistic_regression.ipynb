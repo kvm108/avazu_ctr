{
 "cells": [
  {
   "cell_type": "code",
   "execution_count": null,
   "metadata": {
    "scrolled": true
   },
   "outputs": [
    {
     "name": "stderr",
     "output_type": "stream",
     "text": [
      "ERROR:root:Internal Python error in the inspect module.\nBelow is the traceback from this internal error.\n\n"
     ]
    },
    {
     "name": "stdout",
     "output_type": "stream",
     "text": [
      "Traceback (most recent call last):\n  File \"c:\\users\\maitreyi_kv\\appdata\\local\\programs\\python\\python36\\lib\\site-packages\\IPython\\core\\interactiveshell.py\", line 2910, in run_code\n    exec(code_obj, self.user_global_ns, self.user_ns)\n  File \"<ipython-input-1-63610a0c79db>\", line 6, in <module>\n    df = pd.read_csv('data/train.csv', encoding='UTF-16LE', nrows=30)\n  File \"c:\\users\\maitreyi_kv\\appdata\\local\\programs\\python\\python36\\lib\\site-packages\\pandas\\io\\parsers.py\", line 709, in parser_f\n    return _read(filepath_or_buffer, kwds)\n  File \"c:\\users\\maitreyi_kv\\appdata\\local\\programs\\python\\python36\\lib\\site-packages\\pandas\\io\\parsers.py\", line 449, in _read\n    parser = TextFileReader(filepath_or_buffer, **kwds)\n  File \"c:\\users\\maitreyi_kv\\appdata\\local\\programs\\python\\python36\\lib\\site-packages\\pandas\\io\\parsers.py\", line 818, in __init__\n    self._make_engine(self.engine)\n  File \"c:\\users\\maitreyi_kv\\appdata\\local\\programs\\python\\python36\\lib\\site-packages\\pandas\\io\\parsers.py\", line 1049, in _make_engine\n    self._engine = CParserWrapper(self.f, **self.options)\n  File \"c:\\users\\maitreyi_kv\\appdata\\local\\programs\\python\\python36\\lib\\site-packages\\pandas\\io\\parsers.py\", line 1695, in __init__\n    self._reader = parsers.TextReader(src, **kwds)\n  File \"pandas\\_libs\\parsers.pyx\", line 562, in pandas._libs.parsers.TextReader.__cinit__\n  File \"pandas\\_libs\\parsers.pyx\", line 760, in pandas._libs.parsers.TextReader._get_header\n  File \"pandas\\_libs\\parsers.pyx\", line 965, in pandas._libs.parsers.TextReader._tokenize_rows\n  File \"pandas\\_libs\\parsers.pyx\", line 2208, in pandas._libs.parsers.raise_parser_error\npandas.errors.ParserError: Error tokenizing data. C error: out of memory\n\nDuring handling of the above exception, another exception occurred:\n\nTraceback (most recent call last):\n  File \"c:\\users\\maitreyi_kv\\appdata\\local\\programs\\python\\python36\\lib\\site-packages\\IPython\\core\\interactiveshell.py\", line 1828, in showtraceback\n    stb = value._render_traceback_()\nAttributeError: 'ParserError' object has no attribute '_render_traceback_'\n\nDuring handling of the above exception, another exception occurred:\n\nTraceback (most recent call last):\n  File \"c:\\users\\maitreyi_kv\\appdata\\local\\programs\\python\\python36\\lib\\site-packages\\IPython\\core\\ultratb.py\", line 1090, in get_records\n    return _fixed_getinnerframes(etb, number_of_lines_of_context, tb_offset)\n  File \"c:\\users\\maitreyi_kv\\appdata\\local\\programs\\python\\python36\\lib\\site-packages\\IPython\\core\\ultratb.py\", line 311, in wrapped\n    return f(*args, **kwargs)\n  File \"c:\\users\\maitreyi_kv\\appdata\\local\\programs\\python\\python36\\lib\\site-packages\\IPython\\core\\ultratb.py\", line 345, in _fixed_getinnerframes\n    records = fix_frame_records_filenames(inspect.getinnerframes(etb, context))\n  File \"c:\\users\\maitreyi_kv\\appdata\\local\\programs\\python\\python36\\lib\\inspect.py\", line 1483, in getinnerframes\n    frameinfo = (tb.tb_frame,) + getframeinfo(tb, context)\n  File \"c:\\users\\maitreyi_kv\\appdata\\local\\programs\\python\\python36\\lib\\inspect.py\", line 1441, in getframeinfo\n    filename = getsourcefile(frame) or getfile(frame)\n  File \"c:\\users\\maitreyi_kv\\appdata\\local\\programs\\python\\python36\\lib\\inspect.py\", line 693, in getsourcefile\n    if os.path.exists(filename):\n  File \"c:\\users\\maitreyi_kv\\appdata\\local\\programs\\python\\python36\\lib\\genericpath.py\", line 19, in exists\n    os.stat(path)\nKeyboardInterrupt\n"
     ]
    },
    {
     "ename": "ParserError",
     "evalue": "Error tokenizing data. C error: out of memory",
     "traceback": [
      "\u001b[1;31m---------------------------------------------------------------------------\u001b[0m"
     ],
     "output_type": "error"
    }
   ],
   "source": [
    "import pandas as pd\n",
    "from matplotlib import pyplot as plt\n",
    "\n",
    "#Load sample data\n",
    "# df = pd.read_csv('data/train_subset.csv', encoding='UTF-16LE')\n",
    "df = pd.read_csv('data/train.csv', encoding='UTF-8', nrows=30)\n",
    "\n",
    "print(df.head())"
   ]
  },
  {
   "cell_type": "code",
   "execution_count": 3,
   "metadata": {},
   "outputs": [
    {
     "data": {
      "text/plain": [
       "0       0\n1       0\n2       0\n3       0\n4       0\n5       0\n6       0\n7       0\n8       1\n9       0\n10      0\n11      0\n12      0\n13      0\n14      0\n15      0\n16      0\n17      0\n18      0\n19      0\n20      0\n21      0\n22      0\n23      1\n24      0\n25      0\n26      0\n27      1\n28      0\n29      0\n       ..\n9969    0\n9970    1\n9971    0\n9972    0\n9973    1\n9974    0\n9975    0\n9976    0\n9977    0\n9978    0\n9979    0\n9980    1\n9981    0\n9982    0\n9983    0\n9984    0\n9985    0\n9986    0\n9987    0\n9988    0\n9989    0\n9990    1\n9991    0\n9992    0\n9993    0\n9994    0\n9995    0\n9996    1\n9997    1\n9998    0\nName: click, Length: 9999, dtype: int64"
      ]
     },
     "execution_count": 3,
     "metadata": {},
     "output_type": "execute_result"
    }
   ],
   "source": [
    "#Output Y - CLicks\n",
    "y = df['click']\n",
    "y"
   ]
  },
  {
   "cell_type": "code",
   "execution_count": 4,
   "metadata": {},
   "outputs": [
    {
     "data": {
      "text/plain": [
       "array([[1000009418151094273, 14102100, 1005, ..., 35, -1, 79],\n       [10000169349117863715, 14102100, 1005, ..., 35, 100084, 79],\n       [10000371904215119486, 14102100, 1005, ..., 35, 100084, 79],\n       ...,\n       [11384401992895341158, 14102100, 1005, ..., 35, -1, 79],\n       [11384416194059429451, 14102100, 1005, ..., 431, -1, 117],\n       [11384658010851781062, 14102100, 1005, ..., 297, 100111, 61]],\n      dtype=object)"
      ]
     },
     "execution_count": 4,
     "metadata": {},
     "output_type": "execute_result"
    }
   ],
   "source": [
    "X = df.drop(columns='click')\n",
    "type(X)\n",
    "\n",
    "index = X.index\n",
    "column = X.columns\n",
    "values = X.values\n",
    "values"
   ]
  },
  {
   "cell_type": "code",
   "execution_count": 5,
   "metadata": {},
   "outputs": [],
   "source": []
  },
  {
   "cell_type": "code",
   "execution_count": 5,
   "metadata": {},
   "outputs": [
    {
     "data": {
      "text/plain": [
       "0.1706170617061706"
      ]
     },
     "execution_count": 5,
     "metadata": {},
     "output_type": "execute_result"
    }
   ],
   "source": [
    "df['click'].mean()"
   ]
  },
  {
   "cell_type": "code",
   "execution_count": 6,
   "metadata": {},
   "outputs": [
    {
     "data": {
      "text/html": [
       "<div>\n",
       "<style scoped>\n",
       "    .dataframe tbody tr th:only-of-type {\n",
       "        vertical-align: middle;\n",
       "    }\n",
       "\n",
       "    .dataframe tbody tr th {\n",
       "        vertical-align: top;\n",
       "    }\n",
       "\n",
       "    .dataframe thead th {\n",
       "        text-align: right;\n",
       "    }\n",
       "</style>\n",
       "<table border=\"1\" class=\"dataframe\">\n",
       "  <thead>\n",
       "    <tr style=\"text-align: right;\">\n",
       "      <th></th>\n",
       "      <th>id</th>\n",
       "      <th>click</th>\n",
       "      <th>hour</th>\n",
       "      <th>C1</th>\n",
       "      <th>banner_pos</th>\n",
       "      <th>device_type</th>\n",
       "      <th>device_conn_type</th>\n",
       "      <th>C14</th>\n",
       "      <th>C15</th>\n",
       "      <th>C16</th>\n",
       "      <th>C17</th>\n",
       "      <th>C18</th>\n",
       "      <th>C19</th>\n",
       "      <th>C20</th>\n",
       "      <th>C21</th>\n",
       "    </tr>\n",
       "  </thead>\n",
       "  <tbody>\n",
       "    <tr>\n",
       "      <th>count</th>\n",
       "      <td>9.999000e+03</td>\n",
       "      <td>9999.000000</td>\n",
       "      <td>9999.0</td>\n",
       "      <td>9999.000000</td>\n",
       "      <td>9999.00000</td>\n",
       "      <td>9999.000000</td>\n",
       "      <td>9999.000000</td>\n",
       "      <td>9999.000000</td>\n",
       "      <td>9999.000000</td>\n",
       "      <td>9999.000000</td>\n",
       "      <td>9999.000000</td>\n",
       "      <td>9999.000000</td>\n",
       "      <td>9999.000000</td>\n",
       "      <td>9999.000000</td>\n",
       "      <td>9999.000000</td>\n",
       "    </tr>\n",
       "    <tr>\n",
       "      <th>mean</th>\n",
       "      <td>9.795482e+18</td>\n",
       "      <td>0.170617</td>\n",
       "      <td>14102100.0</td>\n",
       "      <td>1005.059906</td>\n",
       "      <td>0.19592</td>\n",
       "      <td>1.068207</td>\n",
       "      <td>0.204520</td>\n",
       "      <td>17711.570457</td>\n",
       "      <td>318.477848</td>\n",
       "      <td>56.987099</td>\n",
       "      <td>1967.587359</td>\n",
       "      <td>0.789279</td>\n",
       "      <td>125.592259</td>\n",
       "      <td>37740.067207</td>\n",
       "      <td>88.263026</td>\n",
       "    </tr>\n",
       "    <tr>\n",
       "      <th>std</th>\n",
       "      <td>2.853137e+18</td>\n",
       "      <td>0.376193</td>\n",
       "      <td>0.0</td>\n",
       "      <td>1.103248</td>\n",
       "      <td>0.40491</td>\n",
       "      <td>0.602014</td>\n",
       "      <td>0.646498</td>\n",
       "      <td>3139.429122</td>\n",
       "      <td>11.492994</td>\n",
       "      <td>37.427315</td>\n",
       "      <td>385.175114</td>\n",
       "      <td>1.228740</td>\n",
       "      <td>234.031341</td>\n",
       "      <td>48514.824297</td>\n",
       "      <td>45.155004</td>\n",
       "    </tr>\n",
       "    <tr>\n",
       "      <th>min</th>\n",
       "      <td>1.004777e+16</td>\n",
       "      <td>0.000000</td>\n",
       "      <td>14102100.0</td>\n",
       "      <td>1001.000000</td>\n",
       "      <td>0.00000</td>\n",
       "      <td>0.000000</td>\n",
       "      <td>0.000000</td>\n",
       "      <td>375.000000</td>\n",
       "      <td>216.000000</td>\n",
       "      <td>36.000000</td>\n",
       "      <td>112.000000</td>\n",
       "      <td>0.000000</td>\n",
       "      <td>35.000000</td>\n",
       "      <td>-1.000000</td>\n",
       "      <td>13.000000</td>\n",
       "    </tr>\n",
       "    <tr>\n",
       "      <th>25%</th>\n",
       "      <td>1.024751e+19</td>\n",
       "      <td>0.000000</td>\n",
       "      <td>14102100.0</td>\n",
       "      <td>1005.000000</td>\n",
       "      <td>0.00000</td>\n",
       "      <td>1.000000</td>\n",
       "      <td>0.000000</td>\n",
       "      <td>15704.000000</td>\n",
       "      <td>320.000000</td>\n",
       "      <td>50.000000</td>\n",
       "      <td>1722.000000</td>\n",
       "      <td>0.000000</td>\n",
       "      <td>35.000000</td>\n",
       "      <td>-1.000000</td>\n",
       "      <td>61.000000</td>\n",
       "    </tr>\n",
       "    <tr>\n",
       "      <th>50%</th>\n",
       "      <td>1.063009e+19</td>\n",
       "      <td>0.000000</td>\n",
       "      <td>14102100.0</td>\n",
       "      <td>1005.000000</td>\n",
       "      <td>0.00000</td>\n",
       "      <td>1.000000</td>\n",
       "      <td>0.000000</td>\n",
       "      <td>17654.000000</td>\n",
       "      <td>320.000000</td>\n",
       "      <td>50.000000</td>\n",
       "      <td>1993.000000</td>\n",
       "      <td>0.000000</td>\n",
       "      <td>35.000000</td>\n",
       "      <td>-1.000000</td>\n",
       "      <td>79.000000</td>\n",
       "    </tr>\n",
       "    <tr>\n",
       "      <th>75%</th>\n",
       "      <td>1.100726e+19</td>\n",
       "      <td>0.000000</td>\n",
       "      <td>14102100.0</td>\n",
       "      <td>1005.000000</td>\n",
       "      <td>0.00000</td>\n",
       "      <td>1.000000</td>\n",
       "      <td>0.000000</td>\n",
       "      <td>20362.000000</td>\n",
       "      <td>320.000000</td>\n",
       "      <td>50.000000</td>\n",
       "      <td>2307.000000</td>\n",
       "      <td>2.000000</td>\n",
       "      <td>39.000000</td>\n",
       "      <td>100083.000000</td>\n",
       "      <td>117.000000</td>\n",
       "    </tr>\n",
       "    <tr>\n",
       "      <th>max</th>\n",
       "      <td>1.138466e+19</td>\n",
       "      <td>1.000000</td>\n",
       "      <td>14102100.0</td>\n",
       "      <td>1010.000000</td>\n",
       "      <td>5.00000</td>\n",
       "      <td>5.000000</td>\n",
       "      <td>5.000000</td>\n",
       "      <td>21705.000000</td>\n",
       "      <td>728.000000</td>\n",
       "      <td>480.000000</td>\n",
       "      <td>2497.000000</td>\n",
       "      <td>3.000000</td>\n",
       "      <td>1835.000000</td>\n",
       "      <td>100248.000000</td>\n",
       "      <td>157.000000</td>\n",
       "    </tr>\n",
       "  </tbody>\n",
       "</table>\n",
       "</div>"
      ],
      "text/plain": [
       "<div>\n",
       "<style scoped>\n",
       "    .dataframe tbody tr th:only-of-type {\n",
       "        vertical-align: middle;\n",
       "    }\n",
       "\n",
       "    .dataframe tbody tr th {\n",
       "        vertical-align: top;\n",
       "    }\n",
       "\n",
       "    .dataframe thead th {\n",
       "        text-align: right;\n",
       "    }\n",
       "</style>\n",
       "<table border=\"1\" class=\"dataframe\">\n",
       "  <thead>\n",
       "    <tr style=\"text-align: right;\">\n",
       "      <th></th>\n",
       "      <th>id</th>\n",
       "      <th>click</th>\n",
       "      <th>hour</th>\n",
       "      <th>C1</th>\n",
       "      <th>banner_pos</th>\n",
       "      <th>device_type</th>\n",
       "      <th>device_conn_type</th>\n",
       "      <th>C14</th>\n",
       "      <th>C15</th>\n",
       "      <th>C16</th>\n",
       "      <th>C17</th>\n",
       "      <th>C18</th>\n",
       "      <th>C19</th>\n",
       "      <th>C20</th>\n",
       "      <th>C21</th>\n",
       "    </tr>\n",
       "  </thead>\n",
       "  <tbody>\n",
       "    <tr>\n",
       "      <th>count</th>\n",
       "      <td>9.999000e+03</td>\n",
       "      <td>9999.000000</td>\n",
       "      <td>9999.0</td>\n",
       "      <td>9999.000000</td>\n",
       "      <td>9999.00000</td>\n",
       "      <td>9999.000000</td>\n",
       "      <td>9999.000000</td>\n",
       "      <td>9999.000000</td>\n",
       "      <td>9999.000000</td>\n",
       "      <td>9999.000000</td>\n",
       "      <td>9999.000000</td>\n",
       "      <td>9999.000000</td>\n",
       "      <td>9999.000000</td>\n",
       "      <td>9999.000000</td>\n",
       "      <td>9999.000000</td>\n",
       "    </tr>\n",
       "    <tr>\n",
       "      <th>mean</th>\n",
       "      <td>9.795482e+18</td>\n",
       "      <td>0.170617</td>\n",
       "      <td>14102100.0</td>\n",
       "      <td>1005.059906</td>\n",
       "      <td>0.19592</td>\n",
       "      <td>1.068207</td>\n",
       "      <td>0.204520</td>\n",
       "      <td>17711.570457</td>\n",
       "      <td>318.477848</td>\n",
       "      <td>56.987099</td>\n",
       "      <td>1967.587359</td>\n",
       "      <td>0.789279</td>\n",
       "      <td>125.592259</td>\n",
       "      <td>37740.067207</td>\n",
       "      <td>88.263026</td>\n",
       "    </tr>\n",
       "    <tr>\n",
       "      <th>std</th>\n",
       "      <td>2.853137e+18</td>\n",
       "      <td>0.376193</td>\n",
       "      <td>0.0</td>\n",
       "      <td>1.103248</td>\n",
       "      <td>0.40491</td>\n",
       "      <td>0.602014</td>\n",
       "      <td>0.646498</td>\n",
       "      <td>3139.429122</td>\n",
       "      <td>11.492994</td>\n",
       "      <td>37.427315</td>\n",
       "      <td>385.175114</td>\n",
       "      <td>1.228740</td>\n",
       "      <td>234.031341</td>\n",
       "      <td>48514.824297</td>\n",
       "      <td>45.155004</td>\n",
       "    </tr>\n",
       "    <tr>\n",
       "      <th>min</th>\n",
       "      <td>1.004777e+16</td>\n",
       "      <td>0.000000</td>\n",
       "      <td>14102100.0</td>\n",
       "      <td>1001.000000</td>\n",
       "      <td>0.00000</td>\n",
       "      <td>0.000000</td>\n",
       "      <td>0.000000</td>\n",
       "      <td>375.000000</td>\n",
       "      <td>216.000000</td>\n",
       "      <td>36.000000</td>\n",
       "      <td>112.000000</td>\n",
       "      <td>0.000000</td>\n",
       "      <td>35.000000</td>\n",
       "      <td>-1.000000</td>\n",
       "      <td>13.000000</td>\n",
       "    </tr>\n",
       "    <tr>\n",
       "      <th>25%</th>\n",
       "      <td>1.024751e+19</td>\n",
       "      <td>0.000000</td>\n",
       "      <td>14102100.0</td>\n",
       "      <td>1005.000000</td>\n",
       "      <td>0.00000</td>\n",
       "      <td>1.000000</td>\n",
       "      <td>0.000000</td>\n",
       "      <td>15704.000000</td>\n",
       "      <td>320.000000</td>\n",
       "      <td>50.000000</td>\n",
       "      <td>1722.000000</td>\n",
       "      <td>0.000000</td>\n",
       "      <td>35.000000</td>\n",
       "      <td>-1.000000</td>\n",
       "      <td>61.000000</td>\n",
       "    </tr>\n",
       "    <tr>\n",
       "      <th>50%</th>\n",
       "      <td>1.063009e+19</td>\n",
       "      <td>0.000000</td>\n",
       "      <td>14102100.0</td>\n",
       "      <td>1005.000000</td>\n",
       "      <td>0.00000</td>\n",
       "      <td>1.000000</td>\n",
       "      <td>0.000000</td>\n",
       "      <td>17654.000000</td>\n",
       "      <td>320.000000</td>\n",
       "      <td>50.000000</td>\n",
       "      <td>1993.000000</td>\n",
       "      <td>0.000000</td>\n",
       "      <td>35.000000</td>\n",
       "      <td>-1.000000</td>\n",
       "      <td>79.000000</td>\n",
       "    </tr>\n",
       "    <tr>\n",
       "      <th>75%</th>\n",
       "      <td>1.100726e+19</td>\n",
       "      <td>0.000000</td>\n",
       "      <td>14102100.0</td>\n",
       "      <td>1005.000000</td>\n",
       "      <td>0.00000</td>\n",
       "      <td>1.000000</td>\n",
       "      <td>0.000000</td>\n",
       "      <td>20362.000000</td>\n",
       "      <td>320.000000</td>\n",
       "      <td>50.000000</td>\n",
       "      <td>2307.000000</td>\n",
       "      <td>2.000000</td>\n",
       "      <td>39.000000</td>\n",
       "      <td>100083.000000</td>\n",
       "      <td>117.000000</td>\n",
       "    </tr>\n",
       "    <tr>\n",
       "      <th>max</th>\n",
       "      <td>1.138466e+19</td>\n",
       "      <td>1.000000</td>\n",
       "      <td>14102100.0</td>\n",
       "      <td>1010.000000</td>\n",
       "      <td>5.00000</td>\n",
       "      <td>5.000000</td>\n",
       "      <td>5.000000</td>\n",
       "      <td>21705.000000</td>\n",
       "      <td>728.000000</td>\n",
       "      <td>480.000000</td>\n",
       "      <td>2497.000000</td>\n",
       "      <td>3.000000</td>\n",
       "      <td>1835.000000</td>\n",
       "      <td>100248.000000</td>\n",
       "      <td>157.000000</td>\n",
       "    </tr>\n",
       "  </tbody>\n",
       "</table>\n",
       "</div>"
      ]
     },
     "execution_count": 6,
     "metadata": {},
     "output_type": "execute_result"
    }
   ],
   "source": [
    "df.describe()"
   ]
  },
  {
   "cell_type": "code",
   "execution_count": 7,
   "metadata": {},
   "outputs": [],
   "source": []
  },
  {
   "cell_type": "code",
   "execution_count": 7,
   "metadata": {},
   "outputs": [
    {
     "name": "stdout",
     "output_type": "stream",
     "text": [
      "                       id     click        hour           C1  banner_pos  \\\ndevice_type                                                                \n0           -7.107587e+18  0.204724  14102100.0  1002.000000    0.000000   \n1           -6.934042e+18  0.172994  14102100.0  1005.001294    0.173965   \n4           -6.836682e+18  0.074766  14102100.0  1010.000000    1.000000   \n5           -7.615508e+18  0.000000  14102100.0  1010.000000    1.000000   \n\n             device_conn_type           C14         C15        C16  \\\ndevice_type                                                          \n0                    0.000000  19008.811024  316.745407  49.816273   \n1                    0.201251  17532.065466  318.448231  57.538179   \n4                    0.510903  21140.383178  320.000000  50.000000   \n5                    0.600000  20490.480000  336.320000  51.600000   \n\n                     C17       C18         C19           C20         C21  \ndevice_type                                                               \n0            2154.601050  2.149606  168.102362  58878.288714   76.136483  \n1            1943.041739  0.672347  125.987705  37254.216566   87.852675  \n4            2424.274143  2.454829   66.289720  26190.822430  112.442368  \n5            2357.120000  2.040000   92.520000  44078.160000  114.800000  \n                      id     click        hour           C1  device_type  \\\nbanner_pos                                                                 \n0          -6.953677e+18  0.166501  14102100.0  1004.858828     0.952694   \n1          -6.882242e+18  0.187017  14102100.0  1005.891293     1.547656   \n4          -7.967427e+18  0.000000  14102100.0  1005.000000     1.000000   \n5          -3.055113e+18  1.000000  14102100.0  1008.000000     1.000000   \n\n            device_conn_type           C14         C15        C16  \\\nbanner_pos                                                          \n0                   0.187733  17489.595729  318.815992  58.770300   \n1                   0.274601  18634.323029  317.071613  49.602267   \n4                   0.000000  15908.000000  320.000000  50.000000   \n5                   0.000000  17876.000000  320.000000  50.000000   \n\n                    C17       C18         C19            C20         C21  \nbanner_pos                                                                \n0           1942.095356  0.687236   89.172337   37508.815371   88.932580  \n1           2073.515714  1.208140  276.617723   38674.277692   85.421432  \n4           1752.000000  3.000000  297.000000  100081.000000   82.000000  \n5           2036.000000  3.000000   47.000000      -1.000000  156.000000  \n"
     ]
    }
   ],
   "source": [
    "#TODO continue - https://github.com/scentellegher/code_snippets/blob/master/pandas_groupby_unstack/Plot_groupby_multiple_columns_unstack.ipynb\n",
    "#Feature device type\n",
    "dt = df.groupby(['device_type']).mean()\n",
    "print(dt)\n",
    "\n",
    "#todo 2 sum of banner pos and mean of clicks\n",
    "bp = df.groupby(['banner_pos']).mean()\n",
    "print(bp)\n",
    "# dt['click']\n",
    "#Large number of clicks are from device 1! \n",
    "\n",
    "#Scatter plot\n",
    "# sns.pairplot(dt)"
   ]
  },
  {
   "cell_type": "code",
   "execution_count": 8,
   "metadata": {},
   "outputs": [],
   "source": []
  },
  {
   "cell_type": "code",
   "execution_count": 8,
   "metadata": {},
   "outputs": [
    {
     "data": {
      "text/plain": [
       "<matplotlib.axes._subplots.AxesSubplot at 0x1389e470>"
      ]
     },
     "execution_count": 8,
     "metadata": {},
     "output_type": "execute_result"
    },
    {
     "data": {
      "image/png": "[encoded data removed]",
      "text/plain": [
       "<Figure size 432x288 with 2 Axes>"
      ]
     },
     "metadata": {},
     "output_type": "display_data"
    }
   ],
   "source": [
    "import seaborn as sns\n",
    "corr = df.corr()\n",
    "sns.heatmap(corr, \n",
    "            xticklabels=corr.columns.values,\n",
    "            yticklabels=corr.columns.values)"
   ]
  },
  {
   "cell_type": "code",
   "execution_count": 9,
   "metadata": {},
   "outputs": [
    {
     "data": {
      "text/plain": [
       "<matplotlib.image.AxesImage at 0x159f3d30>"
      ]
     },
     "execution_count": 9,
     "metadata": {},
     "output_type": "execute_result"
    },
    {
     "data": {
      "image/png": "[encoded data removed]",
      "text/plain": [
       "<Figure size 288x288 with 1 Axes>"
      ]
     },
     "metadata": {},
     "output_type": "display_data"
    }
   ],
   "source": [
    "\n",
    "plt.matshow(df.corr())"
   ]
  },
  {
   "cell_type": "code",
   "execution_count": 10,
   "metadata": {},
   "outputs": [
    {
     "data": {
      "text/plain": [
       "<seaborn.axisgrid.PairGrid at 0x15a12898>"
      ]
     },
     "execution_count": 10,
     "metadata": {},
     "output_type": "execute_result"
    }
   ],
   "source": [
    "#Scatter plot\n",
    "sns.pairplot(df)"
   ]
  },
  {
   "cell_type": "code",
   "execution_count": 10,
   "metadata": {},
   "outputs": [
    {
     "ename": "NameError",
     "evalue": "name 'df' is not defined",
     "traceback": [
      "\u001b[1;31m---------------------------------------------------------------------------\u001b[0m",
      "\u001b[1;31mNameError\u001b[0m                                 Traceback (most recent call last)",
      "\u001b[1;32m<ipython-input-1-5cc0934cc03c>\u001b[0m in \u001b[0;36m<module>\u001b[1;34m()\u001b[0m\n\u001b[1;32m----> 1\u001b[1;33m \u001b[0mdf\u001b[0m\u001b[1;33m.\u001b[0m\u001b[0mdtypes\u001b[0m\u001b[1;33m\u001b[0m\u001b[0m\n\u001b[0m",
      "\u001b[1;31mNameError\u001b[0m: name 'df' is not defined"
     ],
     "output_type": "error"
    }
   ],
   "source": [
    "df.dtypes"
   ]
  },
  {
   "cell_type": "code",
   "execution_count": 12,
   "metadata": {
    "scrolled": true
   },
   "outputs": [
    {
     "data": {
      "text/plain": [
       "(                        id  click      hour    C1  banner_pos  device_type  \\\n 0      1000009418151094273      0  14102100  1005           0            1   \n 1     10000169349117863715      0  14102100  1005           0            1   \n 2     10000371904215119486      0  14102100  1005           0            1   \n 3     10000640724480838376      0  14102100  1005           0            1   \n 4     10000679056417042096      0  14102100  1005           1            1   \n 5     10000720757801103869      0  14102100  1005           0            1   \n 6     10000724729988544911      0  14102100  1005           0            1   \n 7     10000918755742328737      0  14102100  1005           1            1   \n 8     10000949271186029916      1  14102100  1005           0            1   \n 9     10001264480619467364      0  14102100  1002           0            0   \n 10    10001868339616595934      0  14102100  1005           1            1   \n 11    10001966791793526909      0  14102100  1005           0            1   \n 12    10002028568167339219      0  14102100  1005           0            1   \n 13    10002044883120869786      0  14102100  1005           0            1   \n 14    10002518649031436658      0  14102100  1005           0            1   \n 15    10003539039235338011      0  14102100  1005           0            1   \n 16    10003585669470236873      0  14102100  1005           0            1   \n 17    10004105575081229495      0  14102100  1005           0            1   \n 18    10004181428767727519      0  14102100  1005           1            1   \n 19    10004482643316086592      0  14102100  1005           0            1   \n 20    10004510652136496837      0  14102100  1005           0            1   \n 21    10004574413841529209      0  14102100  1005           0            1   \n 22    10004670021948955159      0  14102100  1005           0            1   \n 23    10004765361151096125      1  14102100  1005           0            1   \n 24    10005249248600843539      0  14102100  1005           0            1   \n 25    10005334911727438633      0  14102100  1010           1            4   \n 26    10005541670676403131      0  14102100  1005           1            1   \n 27    10005609489911213467      1  14102100  1005           0            1   \n 28    10005649443863261125      0  14102100  1005           0            1   \n 29    10005951398749600249      0  14102100  1005           0            1   \n ...                    ...    ...       ...   ...         ...          ...   \n 9969  11381703670557882651      0  14102100  1005           0            1   \n 9970  11381753416173026584      1  14102100  1005           1            1   \n 9971  11381782417576225396      0  14102100  1005           0            1   \n 9972  11381870277272078499      0  14102100  1005           0            1   \n 9973  11381903985522193204      1  14102100  1005           0            1   \n 9974  11381953751483827882      0  14102100  1005           0            1   \n 9975  11382167562326792310      0  14102100  1005           0            1   \n 9976  11382435200700172280      0  14102100  1010           1            4   \n 9977   1138256257652320240      0  14102100  1005           0            1   \n 9978   1138274434669433642      0  14102100  1005           0            1   \n 9979  11382767280016892883      0  14102100  1005           0            1   \n 9980  11382880873315444679      1  14102100  1005           0            1   \n 9981  11382924962510820322      0  14102100  1005           0            1   \n 9982  11383094047050182970      0  14102100  1005           0            1   \n 9983  11383099210239805104      0  14102100  1005           0            1   \n 9984  11383179114829304126      0  14102100  1005           0            1   \n 9985  11383283883489932573      0  14102100  1005           0            1   \n 9986  11383654056843215893      0  14102100  1005           0            1   \n 9987  11383762881420286981      0  14102100  1005           0            1   \n 9988  11383812343256589979      0  14102100  1005           0            1   \n 9989   1138383546331492258      0  14102100  1005           0            1   \n 9990  11383962831054214269      1  14102100  1005           1            1   \n 9991  11383989711374719391      0  14102100  1005           0            1   \n 9992  11384000163315307352      0  14102100  1005           0            1   \n 9993  11384045412237430076      0  14102100  1005           0            1   \n 9994  11384109867079530222      0  14102100  1005           0            1   \n 9995  11384293714617058397      0  14102100  1005           0            1   \n 9996  11384401992895341158      1  14102100  1005           0            1   \n 9997  11384416194059429451      1  14102100  1005           1            1   \n 9998  11384658010851781062      0  14102100  1005           0            1   \n \n       device_conn_type    C14  C15  C16          ...            \\\n 0                    2  15706  320   50          ...             \n 1                    0  15704  320   50          ...             \n 2                    0  15704  320   50          ...             \n 3                    0  15706  320   50          ...             \n 4                    0  18993  320   50          ...             \n 5                    0  16920  320   50          ...             \n 6                    0  20362  320   50          ...             \n 7                    0  20632  320   50          ...             \n 8                    2  15707  320   50          ...             \n 9                    0  21689  320   50          ...             \n 10                   0  17747  320   50          ...             \n 11                   0  15701  320   50          ...             \n 12                   2  20596  320   50          ...             \n 13                   0  19771  320   50          ...             \n 14                   0  20984  320   50          ...             \n 15                   0  15699  320   50          ...             \n 16                   0  17914  320   50          ...             \n 17                   2  15708  320   50          ...             \n 18                   0   6558  320   50          ...             \n 19                   0  21234  320   50          ...             \n 20                   0  20352  320   50          ...             \n 21                   0  15706  320   50          ...             \n 22                   0  20366  320   50          ...             \n 23                   0  15701  320   50          ...             \n 24                   0  15706  320   50          ...             \n 25                   0  21665  320   50          ...             \n 26                   0  20984  320   50          ...             \n 27                   0  21611  320   50          ...             \n 28                   0  20366  320   50          ...             \n 29                   0  15706  320   50          ...             \n ...                ...    ...  ...  ...          ...             \n 9969                 0  15701  320   50          ...             \n 9970                 0  19950  320   50          ...             \n 9971                 0  15705  320   50          ...             \n 9972                 0  15705  320   50          ...             \n 9973                 0  15705  320   50          ...             \n 9974                 0  19665  320   50          ...             \n 9975                 0  20633  320   50          ...             \n 9976                 0  21665  320   50          ...             \n 9977                 0  20596  320   50          ...             \n 9978                 0  15702  320   50          ...             \n 9979                 0  15705  320   50          ...             \n 9980                 0  15701  320   50          ...             \n 9981                 0  18993  320   50          ...             \n 9982                 0  15706  320   50          ...             \n 9983                 0  18993  320   50          ...             \n 9984                 0  15702  320   50          ...             \n 9985                 0  20596  320   50          ...             \n 9986                 2  20596  320   50          ...             \n 9987                 0  17914  320   50          ...             \n 9988                 0  15704  320   50          ...             \n 9989                 0  15703  320   50          ...             \n 9990                 0  17753  320   50          ...             \n 9991                 0  19665  320   50          ...             \n 9992                 0  15707  320   50          ...             \n 9993                 0  15705  320   50          ...             \n 9994                 0  16859  320   50          ...             \n 9995                 0  17654  300  250          ...             \n 9996                 0  15701  320   50          ...             \n 9997                 0  16920  320   50          ...             \n 9998                 0  21611  320   50          ...             \n \n       device_model_fe304337  device_model_fe31adef  device_model_feacaaee  \\\n 0                         0                      0                      0   \n 1                         0                      0                      0   \n 2                         0                      0                      0   \n 3                         0                      0                      0   \n 4                         0                      0                      0   \n 5                         0                      0                      0   \n 6                         0                      0                      0   \n 7                         0                      0                      0   \n 8                         0                      0                      0   \n 9                         0                      0                      0   \n 10                        0                      0                      0   \n 11                        0                      0                      0   \n 12                        0                      0                      0   \n 13                        0                      0                      0   \n 14                        0                      0                      0   \n 15                        0                      0                      0   \n 16                        0                      0                      0   \n 17                        0                      0                      0   \n 18                        0                      0                      0   \n 19                        0                      0                      0   \n 20                        0                      0                      0   \n 21                        0                      0                      0   \n 22                        0                      0                      0   \n 23                        0                      0                      0   \n 24                        0                      0                      0   \n 25                        0                      0                      0   \n 26                        0                      0                      0   \n 27                        0                      0                      0   \n 28                        0                      0                      0   \n 29                        0                      0                      0   \n ...                     ...                    ...                    ...   \n 9969                      0                      0                      0   \n 9970                      0                      0                      0   \n 9971                      0                      0                      0   \n 9972                      0                      0                      0   \n 9973                      0                      0                      0   \n 9974                      0                      0                      0   \n 9975                      0                      0                      0   \n 9976                      0                      0                      0   \n 9977                      0                      0                      0   \n 9978                      0                      0                      0   \n 9979                      0                      0                      0   \n 9980                      0                      0                      0   \n 9981                      0                      0                      0   \n 9982                      0                      0                      0   \n 9983                      0                      0                      0   \n 9984                      0                      0                      0   \n 9985                      0                      0                      0   \n 9986                      0                      0                      0   \n 9987                      0                      0                      0   \n 9988                      0                      0                      0   \n 9989                      0                      0                      0   \n 9990                      0                      0                      0   \n 9991                      0                      0                      0   \n 9992                      0                      0                      0   \n 9993                      0                      0                      0   \n 9994                      0                      0                      0   \n 9995                      0                      0                      0   \n 9996                      0                      0                      0   \n 9997                      0                      0                      0   \n 9998                      0                      0                      0   \n \n       device_model_feb70d53  device_model_ff065cf0  device_model_ff16d623  \\\n 0                         0                      0                      0   \n 1                         0                      0                      0   \n 2                         0                      0                      0   \n 3                         0                      0                      0   \n 4                         0                      0                      0   \n 5                         0                      0                      0   \n 6                         0                      0                      0   \n 7                         0                      0                      0   \n 8                         0                      0                      0   \n 9                         0                      0                      0   \n 10                        0                      0                      0   \n 11                        0                      0                      0   \n 12                        0                      0                      0   \n 13                        0                      0                      0   \n 14                        0                      0                      0   \n 15                        0                      0                      0   \n 16                        0                      0                      0   \n 17                        0                      0                      0   \n 18                        0                      0                      0   \n 19                        0                      0                      0   \n 20                        0                      0                      0   \n 21                        0                      0                      0   \n 22                        0                      0                      0   \n 23                        0                      0                      0   \n 24                        0                      0                      0   \n 25                        0                      0                      0   \n 26                        0                      0                      0   \n 27                        0                      0                      0   \n 28                        0                      0                      0   \n 29                        0                      0                      0   \n ...                     ...                    ...                    ...   \n 9969                      0                      0                      0   \n 9970                      0                      0                      0   \n 9971                      0                      0                      0   \n 9972                      0                      0                      0   \n 9973                      0                      0                      0   \n 9974                      0                      0                      0   \n 9975                      0                      0                      0   \n 9976                      0                      0                      0   \n 9977                      0                      0                      0   \n 9978                      0                      0                      0   \n 9979                      0                      0                      0   \n 9980                      0                      0                      0   \n 9981                      0                      0                      0   \n 9982                      0                      0                      0   \n 9983                      0                      0                      0   \n 9984                      0                      0                      0   \n 9985                      0                      0                      0   \n 9986                      0                      0                      0   \n 9987                      0                      0                      0   \n 9988                      0                      0                      0   \n 9989                      0                      0                      0   \n 9990                      0                      0                      0   \n 9991                      0                      0                      0   \n 9992                      0                      0                      0   \n 9993                      0                      0                      0   \n 9994                      0                      0                      0   \n 9995                      0                      0                      0   \n 9996                      0                      0                      0   \n 9997                      0                      0                      0   \n 9998                      0                      0                      0   \n \n       device_model_ff2a3543  device_model_ff717dd1  device_model_ffcd1497  \\\n 0                         0                      0                      0   \n 1                         0                      0                      0   \n 2                         0                      0                      0   \n 3                         0                      0                      0   \n 4                         0                      0                      0   \n 5                         0                      0                      0   \n 6                         0                      0                      0   \n 7                         0                      0                      0   \n 8                         0                      0                      0   \n 9                         0                      0                      0   \n 10                        0                      0                      0   \n 11                        0                      0                      0   \n 12                        0                      0                      0   \n 13                        0                      0                      0   \n 14                        0                      0                      0   \n 15                        0                      0                      0   \n 16                        0                      0                      0   \n 17                        0                      0                      0   \n 18                        0                      0                      0   \n 19                        0                      0                      0   \n 20                        0                      0                      0   \n 21                        0                      0                      0   \n 22                        0                      0                      0   \n 23                        0                      0                      0   \n 24                        0                      0                      0   \n 25                        0                      0                      0   \n 26                        0                      0                      0   \n 27                        0                      0                      0   \n 28                        0                      0                      0   \n 29                        0                      0                      0   \n ...                     ...                    ...                    ...   \n 9969                      0                      0                      0   \n 9970                      0                      0                      0   \n 9971                      0                      0                      0   \n 9972                      0                      0                      0   \n 9973                      0                      0                      0   \n 9974                      0                      0                      0   \n 9975                      0                      0                      0   \n 9976                      0                      0                      0   \n 9977                      0                      0                      0   \n 9978                      0                      0                      0   \n 9979                      0                      0                      0   \n 9980                      0                      0                      0   \n 9981                      0                      0                      0   \n 9982                      0                      0                      0   \n 9983                      0                      0                      0   \n 9984                      0                      0                      0   \n 9985                      0                      0                      0   \n 9986                      0                      0                      0   \n 9987                      0                      0                      0   \n 9988                      0                      0                      0   \n 9989                      0                      0                      0   \n 9990                      0                      0                      0   \n 9991                      0                      0                      0   \n 9992                      0                      0                      0   \n 9993                      0                      0                      0   \n 9994                      0                      0                      0   \n 9995                      0                      0                      0   \n 9996                      0                      0                      0   \n 9997                      0                      0                      0   \n 9998                      0                      0                      0   \n \n       device_model_ffe69079  \n 0                         0  \n 1                         0  \n 2                         0  \n 3                         0  \n 4                         0  \n 5                         0  \n 6                         0  \n 7                         0  \n 8                         0  \n 9                         0  \n 10                        0  \n 11                        0  \n 12                        0  \n 13                        0  \n 14                        0  \n 15                        0  \n 16                        0  \n 17                        0  \n 18                        0  \n 19                        0  \n 20                        0  \n 21                        0  \n 22                        0  \n 23                        0  \n 24                        0  \n 25                        0  \n 26                        0  \n 27                        0  \n 28                        0  \n 29                        0  \n ...                     ...  \n 9969                      0  \n 9970                      0  \n 9971                      0  \n 9972                      0  \n 9973                      0  \n 9974                      0  \n 9975                      0  \n 9976                      0  \n 9977                      0  \n 9978                      0  \n 9979                      0  \n 9980                      0  \n 9981                      0  \n 9982                      0  \n 9983                      0  \n 9984                      0  \n 9985                      0  \n 9986                      0  \n 9987                      0  \n 9988                      0  \n 9989                      0  \n 9990                      0  \n 9991                      0  \n 9992                      0  \n 9993                      0  \n 9994                      0  \n 9995                      0  \n 9996                      0  \n 9997                      0  \n 9998                      0  \n \n [9999 rows x 10630 columns], 0       0\n 1       0\n 2       0\n 3       0\n 4       0\n 5       0\n 6       0\n 7       0\n 8       1\n 9       0\n 10      0\n 11      0\n 12      0\n 13      0\n 14      0\n 15      0\n 16      0\n 17      0\n 18      0\n 19      0\n 20      0\n 21      0\n 22      0\n 23      1\n 24      0\n 25      0\n 26      0\n 27      1\n 28      0\n 29      0\n        ..\n 9969    0\n 9970    1\n 9971    0\n 9972    0\n 9973    1\n 9974    0\n 9975    0\n 9976    0\n 9977    0\n 9978    0\n 9979    0\n 9980    1\n 9981    0\n 9982    0\n 9983    0\n 9984    0\n 9985    0\n 9986    0\n 9987    0\n 9988    0\n 9989    0\n 9990    1\n 9991    0\n 9992    0\n 9993    0\n 9994    0\n 9995    0\n 9996    1\n 9997    1\n 9998    0\n Name: click, Length: 9999, dtype: int64)"
      ]
     },
     "execution_count": 12,
     "metadata": {},
     "output_type": "execute_result"
    }
   ],
   "source": [
    "cat_data = df.select_dtypes(include='object')\n",
    "cat_data.columns\n",
    "\n",
    "data = pd.get_dummies(df, columns=list(cat_data.columns))\n",
    "data, y"
   ]
  },
  {
   "cell_type": "code",
   "execution_count": 13,
   "metadata": {},
   "outputs": [],
   "source": [
    "from sklearn.linear_model import LogisticRegression\n",
    "\n",
    "logreg_cls = LogisticRegression(random_state=0)"
   ]
  },
  {
   "cell_type": "code",
   "execution_count": 14,
   "metadata": {},
   "outputs": [],
   "source": [
    "from sklearn.model_selection import train_test_split\n",
    "\n",
    "X_train, X_test, y_train, y_test = train_test_split(data, y, random_state=0)\n",
    "X_train, X_test, y_train, y_test"
   ]
  },
  {
   "cell_type": "code",
   "execution_count": 15,
   "metadata": {},
   "outputs": [
    {
     "data": {
      "text/plain": [
       "LogisticRegression(C=1.0, class_weight=None, dual=False, fit_intercept=True,\n          intercept_scaling=1, max_iter=100, multi_class='ovr', n_jobs=1,\n          penalty='l2', random_state=0, solver='liblinear', tol=0.0001,\n          verbose=0, warm_start=False)"
      ]
     },
     "execution_count": 15,
     "metadata": {},
     "output_type": "execute_result"
    }
   ],
   "source": [
    "logreg_cls.fit(X_train, y_train)"
   ]
  },
  {
   "cell_type": "code",
   "execution_count": 16,
   "metadata": {},
   "outputs": [],
   "source": [
    "y_pred = logreg_cls.predict(X_test)"
   ]
  },
  {
   "cell_type": "code",
   "execution_count": 17,
   "metadata": {},
   "outputs": [
    {
     "data": {
      "text/plain": [
       "0.8316"
      ]
     },
     "execution_count": 17,
     "metadata": {},
     "output_type": "execute_result"
    }
   ],
   "source": [
    "import numpy as np\n",
    "\n",
    "accuracy = np.sum(y_test == y_pred)\n",
    "accuracy/y_test.shape[0]"
   ]
  },
  {
   "cell_type": "code",
   "execution_count": 18,
   "metadata": {},
   "outputs": [
    {
     "data": {
      "text/plain": [
       "0.8316"
      ]
     },
     "execution_count": 18,
     "metadata": {},
     "output_type": "execute_result"
    }
   ],
   "source": [
    "from sklearn.metrics import accuracy_score\n",
    "acc = accuracy_score(y_pred, y_test)\n",
    "acc"
   ]
  },
  {
   "cell_type": "code",
   "execution_count": 19,
   "metadata": {},
   "outputs": [],
   "source": []
  },
  {
   "cell_type": "code",
   "execution_count": 19,
   "metadata": {},
   "outputs": [
    {
     "name": "stdout",
     "output_type": "stream",
     "text": [
      "/c/Users/maitreyi_kv/PycharmProjects/avazu_ctr\n"
     ]
    }
   ],
   "source": [
    "!pwd"
   ]
  },
  {
   "cell_type": "code",
   "execution_count": null,
   "metadata": {},
   "outputs": [
    {
     "name": "stdout",
     "output_type": "stream",
     "text": [
      "data\nlogistic_regression.ipynb\n"
     ]
    }
   ],
   "source": [
    "!ls"
   ]
  },
  {
   "cell_type": "code",
   "execution_count": 2,
   "metadata": {},
   "outputs": [],
   "source": [
    "!cat data/train_subset.csv | head -10\n"
   ]
  },
  {
   "cell_type": "code",
   "execution_count": 52,
   "metadata": {},
   "outputs": [
    {
     "name": "stdout",
     "output_type": "stream",
     "text": [
      "/c/Users/maitreyi_kv/PycharmProjects/avazu_ctr\n"
     ]
    }
   ],
   "source": []
  },
  {
   "cell_type": "code",
   "execution_count": null,
   "metadata": {},
   "outputs": [],
   "source": []
  }
 ],
 "metadata": {
  "kernelspec": {
   "display_name": "Python 3",
   "language": "python",
   "name": "python3"
  },
  "language_info": {
   "codemirror_mode": {
    "name": "ipython",
    "version": 3
   },
   "file_extension": ".py",
   "mimetype": "text/x-python",
   "name": "python",
   "nbconvert_exporter": "python",
   "pygments_lexer": "ipython3",
   "version": "3.6.4"
  }
 },
 "nbformat": 4,
 "nbformat_minor": 2
}
