{
 "cells": [
  {
   "cell_type": "code",
   "execution_count": 1,
   "metadata": {},
   "outputs": [
    {
     "name": "stderr",
     "output_type": "stream",
     "text": [
      "WARNING (theano.configdefaults): g++ not available, if using conda: `conda install m2w64-toolchain`\n",
      "c:\\users\\maitreyi_kv\\appdata\\local\\programs\\python\\python36\\lib\\site-packages\\theano\\configdefaults.py:560: UserWarning: DeprecationWarning: there is no c++ compiler.This is deprecated and with Theano 0.11 a c++ compiler will be mandatory\n",
      "  warnings.warn(\"DeprecationWarning: there is no c++ compiler.\"\n",
      "WARNING (theano.configdefaults): g++ not detected ! Theano will be unable to execute optimized C-implementations (for both CPU and GPU) and will default to Python implementations. Performance will be severely degraded. To remove this warning, set Theano flags cxx to an empty string.\n",
      "WARNING (theano.tensor.blas): Using NumPy C-API based implementation for BLAS functions.\n",
      "c:\\users\\maitreyi_kv\\appdata\\local\\programs\\python\\python36\\lib\\site-packages\\sklearn\\cross_validation.py:41: DeprecationWarning: This module was deprecated in version 0.18 in favor of the model_selection module into which all the refactored classes and functions are moved. Also note that the interface of the new CV iterators are different from that of this module. This module will be removed in 0.20.\n",
      "  \"This module will be removed in 0.20.\", DeprecationWarning)\n"
     ]
    }
   ],
   "source": [
    "# import pandas as pd\n",
    "# import time\n",
    "# import csv\n",
    "# import numpy as np\n",
    "# import os\n",
    "# from sklearn.metrics import log_loss, mean_squared_error\n",
    "# from sklearn.linear_model import SGDClassifier, LassoCV\n",
    "# from sklearn.linear_model import LogisticRegression\n",
    "# from sklearn.ensemble import ExtraTreesClassifier, RandomForestClassifier, GradientBoostingClassifier\n",
    "# from sklearn.neighbors import KNeighborsClassifier\n",
    "# from sklearn.discriminant_analysis import LinearDiscriminantAnalysis\n",
    "# from sklearn.naive_bayes import GaussianNB\n",
    "# from sklearn.tree import DecisionTreeClassifier\n",
    "# from sklearn.preprocessing import StandardScaler, LabelEncoder\n",
    "# from sknn.mlp import Classifier, Layer\n",
    "# from sklearn.metrics import explained_variance_score, accuracy_score\n",
    "# from sklearn.model_selection import KFold, cross_val_score\n",
    "\n",
    "import pandas as pd\n",
    "import time\n",
    "import numpy as np\n",
    "from matplotlib import pyplot as plt\n",
    "\n",
    "#Preprocessing\n",
    "from sklearn.preprocessing import LabelEncoder, StandardScaler\n",
    "\n",
    "#Models\n",
    "\n",
    "from sklearn.svm import LinearSVC, SVC\n",
    "from sklearn.neighbors import KNeighborsClassifier\n",
    "from sklearn.linear_model import LassoCV, LinearRegression, LogisticRegression, SGDClassifier\n",
    "from sklearn.ensemble import ExtraTreesClassifier, RandomForestClassifier, GradientBoostingClassifier\n",
    "# from sklearn.lda import LDA\n",
    "from sklearn.naive_bayes import GaussianNB\n",
    "from sklearn.tree import DecisionTreeClassifier\n",
    "from sklearn.preprocessing import StandardScaler, LabelEncoder\n",
    "# from xgboost import XGBClassifier\n",
    "from sknn.mlp import Classifier, Layer\n",
    "\n",
    "#Check accuracy\n",
    "from sklearn.metrics import accuracy_score, log_loss, explained_variance_score, mean_squared_error\n",
    "\n",
    "#Model selection\n",
    "from sklearn.model_selection import KFold, cross_val_score, GridSearchCV, RandomizedSearchCV\n",
    "from sklearn.discriminant_analysis import LinearDiscriminantAnalysis"
   ]
  },
  {
   "cell_type": "code",
   "execution_count": 2,
   "metadata": {},
   "outputs": [
    {
     "data": {
      "text/plain": [
       "((1000, 24), (1000, 24))"
      ]
     },
     "execution_count": 2,
     "metadata": {},
     "output_type": "execute_result"
    }
   ],
   "source": [
    "features = ['hour', 'day', 'dow', 'C1', 'banner_pos', 'device_type', 'device_conn_type',\n",
    "            'C14', 'C15', 'C16', 'C17', 'C18', 'C19', 'C20', 'C21', 'site_id', 'site_domain',\n",
    "            'site_category', 'app_id', 'app_domain', 'app_category', 'device_model',\n",
    "            'device_id', 'device_ip']\n",
    "\n",
    "# Load data\n",
    "\n",
    "train = pd.read_csv('data/train-100000R.csv', dtype={'id':pd.np.string_}, nrows=1000)\n",
    "test = pd.read_csv('data/test-100000R.csv', dtype={'id':pd.np.string_}, nrows=1000)\n",
    "\n",
    "train.shape, test.shape"
   ]
  },
  {
   "cell_type": "code",
   "execution_count": 3,
   "metadata": {
    "scrolled": true
   },
   "outputs": [
    {
     "data": {
      "text/plain": [
       "(Index(['id', 'C1', 'site_id', 'site_domain', 'site_category', 'app_id',\n",
       "        'app_domain', 'app_category', 'device_id', 'device_ip', 'device_model',\n",
       "        'device_type', 'C14', 'C15', 'C16', 'C17', 'C18', 'C19', 'C20', 'C21'],\n",
       "       dtype='object'),\n",
       " Index(['click', 'hour', 'banner_pos', 'device_conn_type'], dtype='object'))"
      ]
     },
     "execution_count": 3,
     "metadata": {},
     "output_type": "execute_result"
    }
   ],
   "source": [
    "# Not only to check what is numeric, also to see which features can be normalized\n",
    "original_num_values = train.select_dtypes(exclude='object').columns\n",
    "\n",
    "# Columns categorical - Train\n",
    "\n",
    "train[train.columns[-8:]] = train[train.columns[-8:]].astype('object')\n",
    "train[['C1', 'device_type']] = train[['C1', 'device_type']].astype('object')\n",
    "train.select_dtypes(include='object').columns\n",
    "\n",
    "# Test\n",
    "test[test.columns[-8:]] = test[test.columns[-8:]].astype('object')\n",
    "test[['C1', 'device_type']] = test[['C1', 'device_type']].astype('object')\n",
    "test.select_dtypes(include='object').columns\n",
    "\n",
    "categorical_columns = train.select_dtypes(include='object').columns\n",
    "\n",
    "# Numeric values\n",
    "numeric_columns = train.select_dtypes(exclude='object').columns\n",
    "categorical_columns, numeric_columns\n",
    "#TODO : Come back to this, figure out if these values are numeric or categorical!"
   ]
  },
  {
   "cell_type": "code",
   "execution_count": 4,
   "metadata": {},
   "outputs": [
    {
     "data": {
      "text/plain": [
       "<matplotlib.collections.PathCollection at 0x11f6cfd0>"
      ]
     },
     "execution_count": 4,
     "metadata": {},
     "output_type": "execute_result"
    },
    {
     "data": {
      "image/png": "[encoded data removed]",
      "text/plain": [
       "<Figure size 432x288 with 1 Axes>"
      ]
     },
     "metadata": {},
     "output_type": "display_data"
    }
   ],
   "source": [
    "# some numerical and some categorical -> But classifiers take only numeric values -> Encode them\n",
    "plt.scatter(list(range(100)), train['C1'][:100], marker='o')\n",
    "le = LabelEncoder()\n",
    "for col in categorical_columns:\n",
    "    le.fit(list(train[col]) + list(test[col]))\n",
    "    train[col] = le.transform(train[col])\n",
    "    test[col] = le.transform(test[col])\n",
    "\n",
    "train.shape, test.shape\n",
    "\n",
    "plt.scatter(list(range(100)), train['C1'][:100], marker='x')"
   ]
  },
  {
   "cell_type": "code",
   "execution_count": 5,
   "metadata": {},
   "outputs": [
    {
     "name": "stderr",
     "output_type": "stream",
     "text": [
      "c:\\users\\maitreyi_kv\\appdata\\local\\programs\\python\\python36\\lib\\site-packages\\sklearn\\utils\\validation.py:475: DataConversionWarning: Data with input dtype int64 was converted to float64 by StandardScaler.\n",
      "  warnings.warn(msg, DataConversionWarning)\n"
     ]
    },
    {
     "data": {
      "text/plain": [
       "<matplotlib.collections.PathCollection at 0x11f6cf60>"
      ]
     },
     "execution_count": 5,
     "metadata": {},
     "output_type": "execute_result"
    },
    {
     "data": {
      "image/png": "[encoded data removed]",
      "text/plain": [
       "<Figure size 432x288 with 1 Axes>"
      ]
     },
     "metadata": {},
     "output_type": "display_data"
    }
   ],
   "source": [
    "# Stochastic Gradient Descent is sensitive to feature scaling, so it is highly recommended to scale your data.\n",
    "plt.scatter(list(range(train.shape[0])), train['banner_pos'][:train.shape[0]], marker='o')\n",
    "# plt.scatter(list(range(100)), train['banner_pos'][:100])\n",
    "scaler = StandardScaler()\n",
    "for col in ['C1', 'banner_pos', 'device_type', 'device_conn_type', 'C14', 'C15', 'C16', 'C17', 'C18', 'C19', 'C20', 'C21']:\n",
    "    ch = np.hstack([train[col], test[col]]).reshape(-1, 1)\n",
    "#     print(ch.shape,'\\n================\\n', ch[:10], '\\n================\\n', ch_reshape.shape, '\\n',ch_reshape[:10])\n",
    "    scaler.fit(ch)\n",
    "    train[col] = scaler.transform(train[col].values.reshape(-1, 1))\n",
    "    test[col] = scaler.transform(test[col].values.reshape(-1, 1))\n",
    "    \n",
    "train.shape, test.shape, train.columns\n",
    "\n",
    "plt.scatter(list(range(train.shape[0])), train['banner_pos'][:train.shape[0]], marker='x')"
   ]
  },
  {
   "cell_type": "code",
   "execution_count": 6,
   "metadata": {},
   "outputs": [
    {
     "data": {
      "text/plain": [
       "((1000, 26),\n",
       " (1000, 26),\n",
       " pandas.core.frame.DataFrame,\n",
       " pandas.core.frame.DataFrame)"
      ]
     },
     "execution_count": 6,
     "metadata": {},
     "output_type": "execute_result"
    }
   ],
   "source": [
    "# Add new features:\n",
    "train['day'] = train['hour'].apply(lambda x: (x - x % 10000) / 1000000)  # day\n",
    "train['dow'] = train['hour'].apply(lambda x: ((x - x % 10000) / 1000000) % 7)  # day of week\n",
    "train['hour'] = train['hour'].apply(lambda x: x % 10000 / 100)  # hour\n",
    " \n",
    "test['day'] = test['hour'].apply(lambda x: (x - x % 10000) / 1000000)  # day\n",
    "test['dow'] = test['hour'].apply(lambda x: ((x - x % 10000) / 1000000) % 7)  # day of week\n",
    "test['hour'] = test['hour'].apply(lambda x: x % 10000 / 100)  # hour\n",
    "\n",
    "train.shape, test.shape, type(train), type(test)"
   ]
  },
  {
   "cell_type": "code",
   "execution_count": 7,
   "metadata": {},
   "outputs": [
    {
     "data": {
      "text/plain": [
       "((1000, 26), (1000, 26))"
      ]
     },
     "execution_count": 7,
     "metadata": {},
     "output_type": "execute_result"
    }
   ],
   "source": [
    "train.shape, test.shape"
   ]
  },
  {
   "cell_type": "code",
   "execution_count": 8,
   "metadata": {},
   "outputs": [
    {
     "data": {
      "text/plain": [
       "<matplotlib.collections.PathCollection at 0x11fa4b70>"
      ]
     },
     "execution_count": 8,
     "metadata": {},
     "output_type": "execute_result"
    },
    {
     "data": {
      "image/png": "[encoded data removed]",
      "text/plain": [
       "<Figure size 432x288 with 1 Axes>"
      ]
     },
     "metadata": {},
     "output_type": "display_data"
    }
   ],
   "source": [
    "plt.scatter(list(range(train.shape[0])), train['C18'][:train.shape[0]], marker='o')\n",
    "\n",
    "\n",
    "# Remove outliner\n",
    "for col in ['C18', 'C20', 'C21']:\n",
    "    # keep only the ones that are within +3 to -3 standard deviations in the column col,\n",
    "    train = train[np.abs(train[col] - train[col].mean()) <= (3 * train[col].std())]\n",
    "       \n",
    "train.shape, test.shape\n",
    "\n",
    "plt.scatter(list(range(train.shape[0])), train['C18'][:train.shape[0]], marker='x')"
   ]
  },
  {
   "cell_type": "code",
   "execution_count": 12,
   "metadata": {},
   "outputs": [],
   "source": [
    "Cs = [0.001, 0.01, 0.1, 1, 10]\n",
    "gammas = [0.001, 0.01, 0.1, 1]\n",
    "param_grid = {'C': Cs, 'gamma' : gammas}\n",
    "param_knn = {'n_neighbors' : np.arange(1, 300, 2) }"
   ]
  },
  {
   "cell_type": "code",
   "execution_count": 13,
   "metadata": {},
   "outputs": [
    {
     "data": {
      "text/plain": [
       "[GridSearchCV(cv=None, error_score='raise',\n",
       "        estimator=KNeighborsClassifier(algorithm='auto', leaf_size=30, metric='minkowski',\n",
       "            metric_params=None, n_jobs=1, n_neighbors=5, p=2,\n",
       "            weights='uniform'),\n",
       "        fit_params=None, iid=True, n_jobs=1,\n",
       "        param_grid={'n_neighbors': array([  1,   3, ..., 297, 299])},\n",
       "        pre_dispatch='2*n_jobs', refit=True, return_train_score='warn',\n",
       "        scoring=None, verbose=0),\n",
       " KNeighborsClassifier(algorithm='auto', leaf_size=100, metric='minkowski',\n",
       "            metric_params=None, n_jobs=1, n_neighbors=100, p=2,\n",
       "            weights='uniform'),\n",
       " RandomizedSearchCV(cv=None, error_score='raise',\n",
       "           estimator=KNeighborsClassifier(algorithm='auto', leaf_size=30, metric='minkowski',\n",
       "            metric_params=None, n_jobs=1, n_neighbors=5, p=2,\n",
       "            weights='uniform'),\n",
       "           fit_params=None, iid=True, n_iter=10, n_jobs=1,\n",
       "           param_distributions={'n_neighbors': array([  1,   3, ..., 297, 299])},\n",
       "           pre_dispatch='2*n_jobs', random_state=None, refit=True,\n",
       "           return_train_score='warn', scoring=None, verbose=0),\n",
       " GridSearchCV(cv=None, error_score='raise',\n",
       "        estimator=SVC(C=1.0, cache_size=200, class_weight=None, coef0=0.0,\n",
       "   decision_function_shape='ovr', degree=3, gamma='auto', kernel='rbf',\n",
       "   max_iter=-1, probability=True, random_state=None, shrinking=True,\n",
       "   tol=0.001, verbose=False),\n",
       "        fit_params=None, iid=True, n_jobs=1,\n",
       "        param_grid={'C': [0.001, 0.01, 0.1, 1, 10], 'gamma': [0.001, 0.01, 0.1, 1]},\n",
       "        pre_dispatch='2*n_jobs', refit=True, return_train_score='warn',\n",
       "        scoring=None, verbose=0),\n",
       " RandomizedSearchCV(cv=None, error_score='raise',\n",
       "           estimator=SVC(C=1.0, cache_size=200, class_weight=None, coef0=0.0,\n",
       "   decision_function_shape='ovr', degree=3, gamma='auto', kernel='rbf',\n",
       "   max_iter=-1, probability=True, random_state=None, shrinking=True,\n",
       "   tol=0.001, verbose=False),\n",
       "           fit_params=None, iid=True, n_iter=10, n_jobs=1,\n",
       "           param_distributions={'C': [0.001, 0.01, 0.1, 1, 10], 'gamma': [0.001, 0.01, 0.1, 1]},\n",
       "           pre_dispatch='2*n_jobs', random_state=None, refit=True,\n",
       "           return_train_score='warn', scoring=None, verbose=0),\n",
       " LogisticRegression(C=1.0, class_weight=None, dual=False, fit_intercept=True,\n",
       "           intercept_scaling=1, max_iter=100, multi_class='ovr', n_jobs=1,\n",
       "           penalty='l2', random_state=0, solver='liblinear', tol=0.0001,\n",
       "           verbose=0, warm_start=False),\n",
       " LinearDiscriminantAnalysis(n_components=2, priors=None, shrinkage=None,\n",
       "               solver='svd', store_covariance=False, tol=0.0001),\n",
       " GaussianNB(priors=None),\n",
       " DecisionTreeClassifier(class_weight=None, criterion='gini', max_depth=None,\n",
       "             max_features=None, max_leaf_nodes=None,\n",
       "             min_impurity_decrease=0.0, min_impurity_split=None,\n",
       "             min_samples_leaf=1, min_samples_split=2,\n",
       "             min_weight_fraction_leaf=0.0, presort=False, random_state=None,\n",
       "             splitter='best'),\n",
       " GradientBoostingClassifier(criterion='friedman_mse', init=None,\n",
       "               learning_rate=0.1, loss='deviance', max_depth=3,\n",
       "               max_features=None, max_leaf_nodes=None,\n",
       "               min_impurity_decrease=0.0, min_impurity_split=None,\n",
       "               min_samples_leaf=1, min_samples_split=2,\n",
       "               min_weight_fraction_leaf=0.0, n_estimators=100,\n",
       "               presort='auto', random_state=None, subsample=1.0, verbose=0,\n",
       "               warm_start=False),\n",
       " SGDClassifier(alpha=0.0001, average=False, class_weight=None, epsilon=0.1,\n",
       "        eta0=1e-10, fit_intercept=True, l1_ratio=0.15,\n",
       "        learning_rate='invscaling', loss='log', max_iter=None, n_iter=30,\n",
       "        n_jobs=1, penalty='l2', power_t=0.5, random_state=None,\n",
       "        shuffle=True, tol=None, verbose=5, warm_start=False),\n",
       " ExtraTreesClassifier(bootstrap=False, class_weight=None, criterion='gini',\n",
       "            max_depth=None, max_features='auto', max_leaf_nodes=None,\n",
       "            min_impurity_decrease=0.0, min_impurity_split=None,\n",
       "            min_samples_leaf=1, min_samples_split=2,\n",
       "            min_weight_fraction_leaf=0.0, n_estimators=100, n_jobs=1,\n",
       "            oob_score=False, random_state=None, verbose=0, warm_start=False),\n",
       " RandomForestClassifier(bootstrap=True, class_weight=None, criterion='gini',\n",
       "             max_depth=None, max_features='auto', max_leaf_nodes=None,\n",
       "             min_impurity_decrease=0.0, min_impurity_split=None,\n",
       "             min_samples_leaf=1, min_samples_split=2,\n",
       "             min_weight_fraction_leaf=0.0, n_estimators=100, n_jobs=1,\n",
       "             oob_score=False, random_state=None, verbose=0,\n",
       "             warm_start=False)]"
      ]
     },
     "execution_count": 13,
     "metadata": {},
     "output_type": "execute_result"
    }
   ],
   "source": [
    "# Define classifiers\n",
    "\n",
    "classifiers = [\n",
    "    GridSearchCV(KNeighborsClassifier(), param_knn),\n",
    "    KNeighborsClassifier(n_neighbors=100, weights='uniform', leaf_size=100, p=2),\n",
    "    RandomizedSearchCV(KNeighborsClassifier(), param_knn),\n",
    "    GridSearchCV(SVC(probability=True), param_grid),\n",
    "    RandomizedSearchCV(SVC(probability=True), param_grid),\n",
    "    LogisticRegression(random_state=0),\n",
    "    LinearDiscriminantAnalysis(n_components=2),\n",
    "    GaussianNB(),\n",
    "    DecisionTreeClassifier(),\n",
    "    GradientBoostingClassifier(),\n",
    "    SGDClassifier(loss='log', n_iter=30, verbose=5, learning_rate='invscaling', eta0=0.0000000001), #'invscaling'\n",
    "#     Classifier(\n",
    "#         layers=[\n",
    "# #             Layer('Rectifier', units=100),\n",
    "#             Layer(\"Softmax\")],\n",
    "#         learning_rate=0.0001000,\n",
    "#         learning_rule='momentum',\n",
    "#         learning_momentum=0.9,\n",
    "#         batch_size=25,\n",
    "#         valid_size=0.1,\n",
    "#         # valid_set=(X_test, y_test),\n",
    "#         n_stable=10,\n",
    "#         n_iter=10,\n",
    "#         verbose=True),\n",
    "    ExtraTreesClassifier(n_estimators=100),\n",
    "    RandomForestClassifier(n_estimators=100),\n",
    "    \n",
    "    \n",
    "#         TODO : https://github.com/dmlc/xgboost/issues/2334\n",
    "#         XGBClassifier(n_estimators=512, max_depth=4),\n",
    "]\n",
    "\n",
    "classifiers    "
   ]
  },
  {
   "cell_type": "code",
   "execution_count": 14,
   "metadata": {
    "scrolled": false
   },
   "outputs": [
    {
     "name": "stdout",
     "output_type": "stream",
     "text": [
      "=====================================================================================================\n",
      "Best param for SVC {'n_neighbors': 13} :\n",
      "cv score [[13.          2.        ]\n",
      " [ 0.82208589  0.83640082]]\n",
      "GridSearchCV \n",
      " -> Training time: 47.78877854347229\n",
      "=====================================================================================================\n",
      "=====================================================================================================\n",
      "cv score [[13.          2.        ]\n",
      " [ 0.82208589  0.83640082]\n",
      " [ 0.82413088  0.83640082]]\n",
      "KNeighborsClassifier \n",
      " -> Training time: 3.524352550506592\n",
      "=====================================================================================================\n",
      "=====================================================================================================\n",
      "Best param for SVC {'n_neighbors': 267} :\n",
      "cv score [[13.          2.        ]\n",
      " [ 0.82208589  0.83640082]\n",
      " [ 0.82413088  0.83640082]\n",
      " [ 0.82413088  0.83640082]]\n",
      "RandomizedSearchCV \n",
      " -> Training time: 6.3366334438323975\n",
      "=====================================================================================================\n",
      "=====================================================================================================\n",
      "Best param for SVC {'C': 10, 'gamma': 0.1} :\n",
      "cv score [[13.          2.        ]\n",
      " [ 0.82208589  0.83640082]\n",
      " [ 0.82413088  0.83640082]\n",
      " [ 0.82413088  0.83640082]\n",
      " [ 0.8200409   0.83640082]]\n",
      "GridSearchCV \n",
      " -> Training time: 34.50144982337952\n",
      "=====================================================================================================\n",
      "=====================================================================================================\n",
      "Best param for SVC {'gamma': 1, 'C': 0.001} :\n",
      "cv score [[13.          2.        ]\n",
      " [ 0.82208589  0.83640082]\n",
      " [ 0.82413088  0.83640082]\n",
      " [ 0.82413088  0.83640082]\n",
      " [ 0.8200409   0.83640082]\n",
      " [ 0.82413088  0.83640082]]\n",
      "RandomizedSearchCV \n",
      " -> Training time: 18.77187728881836\n",
      "=====================================================================================================\n",
      "=====================================================================================================\n",
      "cv score [[13.          2.        ]\n",
      " [ 0.82208589  0.83640082]\n",
      " [ 0.82413088  0.83640082]\n",
      " [ 0.82413088  0.83640082]\n",
      " [ 0.8200409   0.83640082]\n",
      " [ 0.82413088  0.83640082]\n",
      " [ 0.81799591  0.8200409 ]]\n",
      "LogisticRegression \n",
      " -> Training time: 3.766376256942749\n",
      "=====================================================================================================\n",
      "=====================================================================================================\n"
     ]
    },
    {
     "name": "stderr",
     "output_type": "stream",
     "text": [
      "c:\\users\\maitreyi_kv\\appdata\\local\\programs\\python\\python36\\lib\\site-packages\\sklearn\\discriminant_analysis.py:388: UserWarning: Variables are collinear.\n",
      "  warnings.warn(\"Variables are collinear.\")\n"
     ]
    },
    {
     "name": "stdout",
     "output_type": "stream",
     "text": [
      "cv score [[13.          2.        ]\n",
      " [ 0.82208589  0.83640082]\n",
      " [ 0.82413088  0.83640082]\n",
      " [ 0.82413088  0.83640082]\n",
      " [ 0.8200409   0.83640082]\n",
      " [ 0.82413088  0.83640082]\n",
      " [ 0.81799591  0.8200409 ]\n",
      " [ 0.82413088  0.81390593]]\n",
      "LinearDiscriminantAnalysis \n",
      " -> Training time: 3.7743775844573975\n",
      "=====================================================================================================\n",
      "=====================================================================================================\n",
      "cv score [[13.          2.        ]\n",
      " [ 0.82208589  0.83640082]\n",
      " [ 0.82413088  0.83640082]\n",
      " [ 0.82413088  0.83640082]\n",
      " [ 0.8200409   0.83640082]\n",
      " [ 0.82413088  0.83640082]\n",
      " [ 0.81799591  0.8200409 ]\n",
      " [ 0.82413088  0.81390593]\n",
      " [ 0.60531697  0.50715746]]\n",
      "GaussianNB \n",
      " -> Training time: 3.4813480377197266\n",
      "=====================================================================================================\n",
      "=====================================================================================================\n",
      "cv score [[13.          2.        ]\n",
      " [ 0.82208589  0.83640082]\n",
      " [ 0.82413088  0.83640082]\n",
      " [ 0.82413088  0.83640082]\n",
      " [ 0.8200409   0.83640082]\n",
      " [ 0.82413088  0.83640082]\n",
      " [ 0.81799591  0.8200409 ]\n",
      " [ 0.82413088  0.81390593]\n",
      " [ 0.60531697  0.50715746]\n",
      " [ 0.74642127  0.71574642]]\n",
      "DecisionTreeClassifier \n",
      " -> Training time: 4.036403656005859\n",
      "=====================================================================================================\n",
      "=====================================================================================================\n",
      "cv score [[13.          2.        ]\n",
      " [ 0.82208589  0.83640082]\n",
      " [ 0.82413088  0.83640082]\n",
      " [ 0.82413088  0.83640082]\n",
      " [ 0.8200409   0.83640082]\n",
      " [ 0.82413088  0.83640082]\n",
      " [ 0.81799591  0.8200409 ]\n",
      " [ 0.82413088  0.81390593]\n",
      " [ 0.60531697  0.50715746]\n",
      " [ 0.74642127  0.71574642]\n",
      " [ 0.79550102  0.82208589]]\n",
      "GradientBoostingClassifier \n",
      " -> Training time: 3.9333932399749756\n",
      "=====================================================================================================\n",
      "=====================================================================================================\n"
     ]
    },
    {
     "name": "stderr",
     "output_type": "stream",
     "text": [
      "c:\\users\\maitreyi_kv\\appdata\\local\\programs\\python\\python36\\lib\\site-packages\\sklearn\\linear_model\\stochastic_gradient.py:117: DeprecationWarning: n_iter parameter is deprecated in 0.19 and will be removed in 0.21. Use max_iter and tol instead.\n",
      "  DeprecationWarning)\n"
     ]
    },
    {
     "name": "stdout",
     "output_type": "stream",
     "text": [
      "-- Epoch 1\n",
      "Norm: 0.00, NNZs: 24, Bias: -0.000000, T: 978, Avg. loss: 0.692712\n",
      "Total training time: 0.01 seconds.\n",
      "-- Epoch 2\n",
      "Norm: 0.00, NNZs: 24, Bias: -0.000000, T: 1956, Avg. loss: 0.692360\n",
      "Total training time: 0.01 seconds.\n",
      "-- Epoch 3\n",
      "Norm: 0.00, NNZs: 24, Bias: -0.000000, T: 2934, Avg. loss: 0.692133\n",
      "Total training time: 0.02 seconds.\n",
      "-- Epoch 4\n",
      "Norm: 0.00, NNZs: 24, Bias: -0.000000, T: 3912, Avg. loss: 0.691951\n",
      "Total training time: 0.03 seconds.\n",
      "-- Epoch 5\n",
      "Norm: 0.00, NNZs: 24, Bias: -0.000000, T: 4890, Avg. loss: 0.691793\n",
      "Total training time: 0.05 seconds.\n",
      "-- Epoch 6\n",
      "Norm: 0.00, NNZs: 24, Bias: -0.000000, T: 5868, Avg. loss: 0.691652\n",
      "Total training time: 0.05 seconds.\n",
      "-- Epoch 7\n",
      "Norm: 0.00, NNZs: 24, Bias: -0.000000, T: 6846, Avg. loss: 0.691524\n",
      "Total training time: 0.06 seconds.\n",
      "-- Epoch 8\n",
      "Norm: 0.00, NNZs: 24, Bias: -0.000000, T: 7824, Avg. loss: 0.691405\n",
      "Total training time: 0.08 seconds.\n",
      "-- Epoch 9\n",
      "Norm: 0.00, NNZs: 24, Bias: -0.000000, T: 8802, Avg. loss: 0.691294\n",
      "Total training time: 0.09 seconds.\n",
      "-- Epoch 10\n",
      "Norm: 0.00, NNZs: 24, Bias: -0.000000, T: 9780, Avg. loss: 0.691189\n",
      "Total training time: 0.10 seconds.\n",
      "-- Epoch 11\n",
      "Norm: 0.00, NNZs: 24, Bias: -0.000000, T: 10758, Avg. loss: 0.691090\n",
      "Total training time: 0.11 seconds.\n",
      "-- Epoch 12\n",
      "Norm: 0.00, NNZs: 24, Bias: -0.000000, T: 11736, Avg. loss: 0.690996\n",
      "Total training time: 0.11 seconds.\n",
      "-- Epoch 13\n",
      "Norm: 0.00, NNZs: 24, Bias: -0.000000, T: 12714, Avg. loss: 0.690905\n",
      "Total training time: 0.12 seconds.\n",
      "-- Epoch 14\n",
      "Norm: 0.00, NNZs: 24, Bias: -0.000000, T: 13692, Avg. loss: 0.690818\n",
      "Total training time: 0.14 seconds.\n",
      "-- Epoch 15\n",
      "Norm: 0.00, NNZs: 24, Bias: -0.000000, T: 14670, Avg. loss: 0.690735\n",
      "Total training time: 0.15 seconds.\n",
      "-- Epoch 16\n",
      "Norm: 0.00, NNZs: 24, Bias: -0.000000, T: 15648, Avg. loss: 0.690654\n",
      "Total training time: 0.15 seconds.\n",
      "-- Epoch 17\n",
      "Norm: 0.00, NNZs: 24, Bias: -0.000000, T: 16626, Avg. loss: 0.690576\n",
      "Total training time: 0.17 seconds.\n",
      "-- Epoch 18\n",
      "Norm: 0.00, NNZs: 24, Bias: -0.000000, T: 17604, Avg. loss: 0.690500\n",
      "Total training time: 0.17 seconds.\n",
      "-- Epoch 19\n",
      "Norm: 0.00, NNZs: 24, Bias: -0.000000, T: 18582, Avg. loss: 0.690427\n",
      "Total training time: 0.18 seconds.\n",
      "-- Epoch 20\n",
      "Norm: 0.00, NNZs: 24, Bias: -0.000000, T: 19560, Avg. loss: 0.690355\n",
      "Total training time: 0.20 seconds.\n",
      "-- Epoch 21\n",
      "Norm: 0.00, NNZs: 24, Bias: -0.000000, T: 20538, Avg. loss: 0.690285\n",
      "Total training time: 0.20 seconds.\n",
      "-- Epoch 22\n",
      "Norm: 0.00, NNZs: 24, Bias: -0.000000, T: 21516, Avg. loss: 0.690217\n",
      "Total training time: 0.21 seconds.\n",
      "-- Epoch 23\n",
      "Norm: 0.00, NNZs: 24, Bias: -0.000000, T: 22494, Avg. loss: 0.690151\n",
      "Total training time: 0.22 seconds.\n",
      "-- Epoch 24\n",
      "Norm: 0.00, NNZs: 24, Bias: -0.000000, T: 23472, Avg. loss: 0.690086\n",
      "Total training time: 0.23 seconds.\n",
      "-- Epoch 25\n",
      "Norm: 0.00, NNZs: 24, Bias: -0.000000, T: 24450, Avg. loss: 0.690022\n",
      "Total training time: 0.24 seconds.\n",
      "-- Epoch 26\n",
      "Norm: 0.00, NNZs: 24, Bias: -0.000000, T: 25428, Avg. loss: 0.689960\n",
      "Total training time: 0.25 seconds.\n",
      "-- Epoch 27\n",
      "Norm: 0.00, NNZs: 24, Bias: -0.000000, T: 26406, Avg. loss: 0.689899\n",
      "Total training time: 0.26 seconds.\n",
      "-- Epoch 28\n",
      "Norm: 0.00, NNZs: 24, Bias: -0.000000, T: 27384, Avg. loss: 0.689839\n",
      "Total training time: 0.27 seconds.\n",
      "-- Epoch 29\n",
      "Norm: 0.00, NNZs: 24, Bias: -0.000000, T: 28362, Avg. loss: 0.689780\n",
      "Total training time: 0.28 seconds.\n",
      "-- Epoch 30\n",
      "Norm: 0.00, NNZs: 24, Bias: -0.000000, T: 29340, Avg. loss: 0.689722\n",
      "Total training time: 0.28 seconds.\n"
     ]
    },
    {
     "name": "stderr",
     "output_type": "stream",
     "text": [
      "c:\\users\\maitreyi_kv\\appdata\\local\\programs\\python\\python36\\lib\\site-packages\\sklearn\\linear_model\\stochastic_gradient.py:117: DeprecationWarning: n_iter parameter is deprecated in 0.19 and will be removed in 0.21. Use max_iter and tol instead.\n",
      "  DeprecationWarning)\n"
     ]
    },
    {
     "name": "stdout",
     "output_type": "stream",
     "text": [
      "-- Epoch 1\n",
      "Norm: 0.00, NNZs: 24, Bias: -0.000000, T: 978, Avg. loss: 0.692711\n",
      "Total training time: 0.00 seconds.\n",
      "-- Epoch 2\n",
      "Norm: 0.00, NNZs: 24, Bias: -0.000000, T: 1956, Avg. loss: 0.692359\n",
      "Total training time: 0.01 seconds.\n",
      "-- Epoch 3\n",
      "Norm: 0.00, NNZs: 24, Bias: -0.000000, T: 2934, Avg. loss: 0.692132\n",
      "Total training time: 0.02 seconds.\n",
      "-- Epoch 4\n",
      "Norm: 0.00, NNZs: 24, Bias: -0.000000, T: 3912, Avg. loss: 0.691949\n",
      "Total training time: 0.03 seconds.\n",
      "-- Epoch 5\n",
      "Norm: 0.00, NNZs: 24, Bias: -0.000000, T: 4890, Avg. loss: 0.691792\n",
      "Total training time: 0.04 seconds.\n",
      "-- Epoch 6\n",
      "Norm: 0.00, NNZs: 24, Bias: -0.000000, T: 5868, Avg. loss: 0.691651\n",
      "Total training time: 0.05 seconds.\n",
      "-- Epoch 7\n",
      "Norm: 0.00, NNZs: 24, Bias: -0.000000, T: 6846, Avg. loss: 0.691522\n",
      "Total training time: 0.06 seconds.\n",
      "-- Epoch 8\n",
      "Norm: 0.00, NNZs: 24, Bias: -0.000000, T: 7824, Avg. loss: 0.691403\n",
      "Total training time: 0.06 seconds.\n",
      "-- Epoch 9\n",
      "Norm: 0.00, NNZs: 24, Bias: -0.000000, T: 8802, Avg. loss: 0.691292\n",
      "Total training time: 0.08 seconds.\n",
      "-- Epoch 10\n",
      "Norm: 0.00, NNZs: 24, Bias: -0.000000, T: 9780, Avg. loss: 0.691188\n",
      "Total training time: 0.09 seconds.\n",
      "-- Epoch 11\n",
      "Norm: 0.00, NNZs: 24, Bias: -0.000000, T: 10758, Avg. loss: 0.691088\n",
      "Total training time: 0.10 seconds.\n",
      "-- Epoch 12\n",
      "Norm: 0.00, NNZs: 24, Bias: -0.000000, T: 11736, Avg. loss: 0.690994\n",
      "Total training time: 0.11 seconds.\n",
      "-- Epoch 13\n",
      "Norm: 0.00, NNZs: 24, Bias: -0.000000, T: 12714, Avg. loss: 0.690903\n",
      "Total training time: 0.11 seconds.\n",
      "-- Epoch 14\n",
      "Norm: 0.00, NNZs: 24, Bias: -0.000000, T: 13692, Avg. loss: 0.690817\n",
      "Total training time: 0.13 seconds.\n",
      "-- Epoch 15\n",
      "Norm: 0.00, NNZs: 24, Bias: -0.000000, T: 14670, Avg. loss: 0.690733\n",
      "Total training time: 0.14 seconds.\n",
      "-- Epoch 16\n",
      "Norm: 0.00, NNZs: 24, Bias: -0.000000, T: 15648, Avg. loss: 0.690652\n",
      "Total training time: 0.15 seconds.\n",
      "-- Epoch 17\n",
      "Norm: 0.00, NNZs: 24, Bias: -0.000000, T: 16626, Avg. loss: 0.690574\n",
      "Total training time: 0.15 seconds.\n",
      "-- Epoch 18\n",
      "Norm: 0.00, NNZs: 24, Bias: -0.000000, T: 17604, Avg. loss: 0.690498\n",
      "Total training time: 0.16 seconds.\n",
      "-- Epoch 19\n",
      "Norm: 0.00, NNZs: 24, Bias: -0.000000, T: 18582, Avg. loss: 0.690425\n",
      "Total training time: 0.17 seconds.\n",
      "-- Epoch 20\n",
      "Norm: 0.00, NNZs: 24, Bias: -0.000000, T: 19560, Avg. loss: 0.690353\n",
      "Total training time: 0.19 seconds.\n",
      "-- Epoch 21\n",
      "Norm: 0.00, NNZs: 24, Bias: -0.000000, T: 20538, Avg. loss: 0.690283\n",
      "Total training time: 0.20 seconds.\n",
      "-- Epoch 22\n",
      "Norm: 0.00, NNZs: 24, Bias: -0.000000, T: 21516, Avg. loss: 0.690215\n",
      "Total training time: 0.21 seconds.\n",
      "-- Epoch 23\n",
      "Norm: 0.00, NNZs: 24, Bias: -0.000000, T: 22494, Avg. loss: 0.690149\n",
      "Total training time: 0.21 seconds.\n",
      "-- Epoch 24\n",
      "Norm: 0.00, NNZs: 24, Bias: -0.000000, T: 23472, Avg. loss: 0.690084\n",
      "Total training time: 0.22 seconds.\n",
      "-- Epoch 25\n",
      "Norm: 0.00, NNZs: 24, Bias: -0.000000, T: 24450, Avg. loss: 0.690020\n",
      "Total training time: 0.23 seconds.\n",
      "-- Epoch 26\n",
      "Norm: 0.00, NNZs: 24, Bias: -0.000000, T: 25428, Avg. loss: 0.689958\n",
      "Total training time: 0.25 seconds.\n",
      "-- Epoch 27\n",
      "Norm: 0.00, NNZs: 24, Bias: -0.000000, T: 26406, Avg. loss: 0.689897\n",
      "Total training time: 0.26 seconds.\n",
      "-- Epoch 28\n",
      "Norm: 0.00, NNZs: 24, Bias: -0.000000, T: 27384, Avg. loss: 0.689837\n",
      "Total training time: 0.26 seconds.\n",
      "-- Epoch 29\n",
      "Norm: 0.00, NNZs: 24, Bias: -0.000000, T: 28362, Avg. loss: 0.689778\n",
      "Total training time: 0.27 seconds.\n",
      "-- Epoch 30\n",
      "Norm: 0.00, NNZs: 24, Bias: -0.000000, T: 29340, Avg. loss: 0.689721\n",
      "Total training time: 0.28 seconds.\n",
      "cv score [[13.          2.        ]\n",
      " [ 0.82208589  0.83640082]\n",
      " [ 0.82413088  0.83640082]\n",
      " [ 0.82413088  0.83640082]\n",
      " [ 0.8200409   0.83640082]\n",
      " [ 0.82413088  0.83640082]\n",
      " [ 0.81799591  0.8200409 ]\n",
      " [ 0.82413088  0.81390593]\n",
      " [ 0.60531697  0.50715746]\n",
      " [ 0.74642127  0.71574642]\n",
      " [ 0.79550102  0.82208589]\n",
      " [ 0.82413088  0.83640082]]\n",
      "SGDClassifier \n",
      " -> Training time: 5.174517393112183\n",
      "=====================================================================================================\n",
      "=====================================================================================================\n",
      "cv score [[13.          2.        ]\n",
      " [ 0.82208589  0.83640082]\n",
      " [ 0.82413088  0.83640082]\n",
      " [ 0.82413088  0.83640082]\n",
      " [ 0.8200409   0.83640082]\n",
      " [ 0.82413088  0.83640082]\n",
      " [ 0.81799591  0.8200409 ]\n",
      " [ 0.82413088  0.81390593]\n",
      " [ 0.60531697  0.50715746]\n",
      " [ 0.74642127  0.71574642]\n",
      " [ 0.79550102  0.82208589]\n",
      " [ 0.82413088  0.83640082]\n",
      " [ 0.80368098  0.82413088]]\n",
      "ExtraTreesClassifier \n",
      " -> Training time: 4.18341851234436\n",
      "=====================================================================================================\n",
      "=====================================================================================================\n",
      "cv score [[13.          2.        ]\n",
      " [ 0.82208589  0.83640082]\n",
      " [ 0.82413088  0.83640082]\n",
      " [ 0.82413088  0.83640082]\n",
      " [ 0.8200409   0.83640082]\n",
      " [ 0.82413088  0.83640082]\n",
      " [ 0.81799591  0.8200409 ]\n",
      " [ 0.82413088  0.81390593]\n",
      " [ 0.60531697  0.50715746]\n",
      " [ 0.74642127  0.71574642]\n",
      " [ 0.79550102  0.82208589]\n",
      " [ 0.82413088  0.83640082]\n",
      " [ 0.80368098  0.82413088]\n",
      " [ 0.81595092  0.81595092]]\n",
      "RandomForestClassifier \n",
      " -> Training time: 4.132413148880005\n",
      "=====================================================================================================\n"
     ]
    },
    {
     "data": {
      "text/plain": [
       "[47.7757773399353,\n",
       " 3.5103511810302734,\n",
       " 6.326632738113403,\n",
       " 34.492448806762695,\n",
       " 18.759876012802124,\n",
       " 3.757375478744507,\n",
       " 3.764376401901245,\n",
       " 3.466346502304077,\n",
       " 4.030403137207031,\n",
       " 3.915391445159912,\n",
       " 5.162516117095947,\n",
       " 4.17541766166687,\n",
       " 4.120412111282349]"
      ]
     },
     "execution_count": 14,
     "metadata": {},
     "output_type": "execute_result"
    }
   ],
   "source": [
    "# Train - kfold diverging for NN\n",
    "time_taken = []\n",
    "k_fold_splits = 2\n",
    "cv_score = np.array((len(classifiers), k_fold_splits))\n",
    "\n",
    "for classifier in classifiers:\n",
    "    print(\"=====================================================================================================\")\n",
    "    start = time.time()\n",
    "    \n",
    "    k_fold = KFold(n_splits=k_fold_splits)\n",
    "    for X_train_idx, X_test_idx in k_fold.split(train):\n",
    "        classifier.fit(train[features], train.click).score(train[features], train.click)\n",
    "    \n",
    "    cvs = cross_val_score(classifier, train[features], train.click, cv=k_fold, n_jobs=-1) #all cpu's\n",
    "    cv_score = np.vstack((cv_score, cvs))\n",
    "\n",
    "    time_taken.append(time.time() - start)\n",
    "    \n",
    "    if classifier.__class__.__name__ in ['GridSearchCV', 'RandomizedSearchCV']:\n",
    "        print('Best param for SVC {} :'.format(classifier.best_params_))\n",
    "        \n",
    "    print(\"cv score\", cv_score)\n",
    "    print('{} \\n -> Training time: {}'.format(classifier.__class__.__name__, time.time() - start))\n",
    "    print(\"=====================================================================================================\")\n",
    "    \n",
    "    \n",
    "time_taken"
   ]
  },
  {
   "cell_type": "code",
   "execution_count": 15,
   "metadata": {},
   "outputs": [
    {
     "name": "stdout",
     "output_type": "stream",
     "text": [
      "Classifier                 | Log loss                  | Rmse loss                 |   Accuracy | Time\n",
      "----------------------------------------------------------------------------------------------------\n",
      "GridSearchCV               | 1.0789461661250206        | 0.38721429627869314       |      0.829 | 47.7757773399353\n",
      "KNeighborsClassifier       | 0.4586071157120941        | 0.375980983561669         |      0.832 | 3.5103511810302734\n",
      "RandomizedSearchCV         | 0.45299863958242886       | 0.37402548168419564       |      0.832 | 6.326632738113403\n",
      "GridSearchCV               | 0.4544365866798705        | 0.37489541916368024       |      0.826 | 34.492448806762695\n",
      "RandomizedSearchCV         | 0.4528886352236307        | 0.37421795320416723       |      0.832 | 18.759876012802124\n",
      "LogisticRegression         | 0.4407604246080951        | 0.36596121942216525       |      0.831 | 3.757375478744507\n",
      "LinearDiscriminantAnalysis | 0.5635297010442186        | 0.38713595167499365       |      0.831 | 3.764376401901245\n",
      "GaussianNB                 | 1.582218634356463         | 0.5691212641087913        |      0.528 | 3.466346502304077\n",
      "DecisionTreeClassifier     | 9.53408857935647          | 0.5258326730053963        |      0.724 | 4.030403137207031\n",
      "GradientBoostingClassifier | 0.4550101906265121        | 0.3747164510277257        |      0.816 | 3.915391445159912\n",
      "SGDClassifier              | 0.6898718853532698        | 0.4983596867894752        |      0.832 | 5.162516117095947\n",
      "ExtraTreesClassifier       | 0.8308856549865814        | 0.4032686139535285        |      0.783 | 4.17541766166687\n",
      "RandomForestClassifier     | 0.6194802206928618        | 0.3932399773551125        |      0.796 | 4.120412111282349\n"
     ]
    }
   ],
   "source": [
    "# Evaluation \n",
    "\n",
    "log_losses = []\n",
    "rmse_loss = []\n",
    "accuracy = []\n",
    "y_expected = test.click.values\n",
    "\n",
    "print('{:<26} | {:<25} | {:<25} | {:>10} | {}'.format('Classifier', 'Log loss', 'Rmse loss', 'Accuracy', 'Time'))\n",
    "print('----------------------------------------------------------------------------------------------------')\n",
    "for idx, classifier in enumerate(classifiers):\n",
    "    if classifier.__class__.__name__ != 'LassoCV':\n",
    "        y_predicted = classifier.predict_proba(test[features])\n",
    "        accu_score = accuracy_score(y_expected, classifier.predict(test[features]))\n",
    "    log_loss_class = log_loss(y_expected, y_predicted)\n",
    "    rmse_loss_class = mean_squared_error(y_expected, np.compress([False, True], y_predicted, axis=1))**0.5\n",
    "    \n",
    "    \n",
    "    log_losses.append(log_loss_class)\n",
    "    rmse_loss.append(rmse_loss_class)\n",
    "    accuracy.append(accu_score)\n",
    "\n",
    "    print('{:<26} | {:<25} | {:<25} | {:>10} | {}'.format(classifier.__class__.__name__, log_loss_class, rmse_loss_class, accu_score, time_taken[idx]))\n"
   ]
  },
  {
   "cell_type": "code",
   "execution_count": 16,
   "metadata": {},
   "outputs": [
    {
     "name": "stdout",
     "output_type": "stream",
     "text": [
      "Best\n",
      "Log loss (Lowest)\n",
      "  LogisticRegression(C=1.0, class_weight=None, dual=False, fit_intercept=True,\n",
      "          intercept_scaling=1, max_iter=100, multi_class='ovr', n_jobs=1,\n",
      "          penalty='l2', random_state=0, solver='liblinear', tol=0.0001,\n",
      "          verbose=0, warm_start=False)\n",
      "Rmse (Lowest) \n",
      "  LogisticRegression(C=1.0, class_weight=None, dual=False, fit_intercept=True,\n",
      "          intercept_scaling=1, max_iter=100, multi_class='ovr', n_jobs=1,\n",
      "          penalty='l2', random_state=0, solver='liblinear', tol=0.0001,\n",
      "          verbose=0, warm_start=False)\n",
      "Accuracy (Highest)\n",
      " KNeighborsClassifier(algorithm='auto', leaf_size=100, metric='minkowski',\n",
      "           metric_params=None, n_jobs=1, n_neighbors=100, p=2,\n",
      "           weights='uniform')\n",
      "Time (Least)\n",
      " GaussianNB(priors=None)\n"
     ]
    }
   ],
   "source": [
    "print(\"Best\")\n",
    "print('Log loss (Lowest)\\n ', classifiers[log_losses.index(min(log_losses))])\n",
    "print('Rmse (Lowest) \\n ', classifiers[rmse_loss.index(min(rmse_loss))])\n",
    "print('Accuracy (Highest)\\n', classifiers[accuracy.index(max(accuracy))])\n",
    "print('Time (Least)\\n', classifiers[time_taken.index(min(time_taken))])"
   ]
  },
  {
   "cell_type": "code",
   "execution_count": 17,
   "metadata": {},
   "outputs": [
    {
     "data": {
      "text/plain": [
       "('GridSearchCV',\n",
       " 'KNeighborsClassifier',\n",
       " 'RandomizedSearchCV',\n",
       " 'GridSearchCV',\n",
       " 'RandomizedSearchCV',\n",
       " 'LogisticRegression',\n",
       " 'LinearDiscriminantAnalysis',\n",
       " 'GaussianNB',\n",
       " 'DecisionTreeClassifier',\n",
       " 'GradientBoostingClassifier',\n",
       " 'SGDClassifier',\n",
       " 'ExtraTreesClassifier',\n",
       " 'RandomForestClassifier')"
      ]
     },
     "execution_count": 17,
     "metadata": {},
     "output_type": "execute_result"
    }
   ],
   "source": [
    "classifi = ()\n",
    "for clf in classifiers:\n",
    "    classifi += (clf.__class__.__name__ ,) \n",
    "    \n",
    "classifi"
   ]
  },
  {
   "cell_type": "code",
   "execution_count": 18,
   "metadata": {},
   "outputs": [
    {
     "data": {
      "text/plain": [
       "([<matplotlib.axis.XTick at 0x15211278>,\n",
       "  <matplotlib.axis.XTick at 0x151d29e8>,\n",
       "  <matplotlib.axis.XTick at 0x524a0b8>,\n",
       "  <matplotlib.axis.XTick at 0x1524c320>,\n",
       "  <matplotlib.axis.XTick at 0x1524c7f0>,\n",
       "  <matplotlib.axis.XTick at 0x1524ccc0>,\n",
       "  <matplotlib.axis.XTick at 0x55051d0>,\n",
       "  <matplotlib.axis.XTick at 0x55056a0>,\n",
       "  <matplotlib.axis.XTick at 0x5505b70>,\n",
       "  <matplotlib.axis.XTick at 0x1524c8d0>,\n",
       "  <matplotlib.axis.XTick at 0x5505780>,\n",
       "  <matplotlib.axis.XTick at 0x550c198>,\n",
       "  <matplotlib.axis.XTick at 0x550c630>],\n",
       " <a list of 13 Text xticklabel objects>)"
      ]
     },
     "execution_count": 18,
     "metadata": {},
     "output_type": "execute_result"
    },
    {
     "data": {
      "image/png": "[encoded data removed]",
      "text/plain": [
       "<Figure size 432x288 with 1 Axes>"
      ]
     },
     "metadata": {},
     "output_type": "display_data"
    }
   ],
   "source": [
    "range_x = range(len(log_losses))\n",
    "\n",
    "plt.plot(range_x, log_losses, label='Log loss')\n",
    "plt.plot(range_x, rmse_loss, label='Rmse')\n",
    "plt.plot(range_x, accuracy, label='Accuracy')\n",
    "plt.plot(range_x, time_taken, label='Time')\n",
    "\n",
    "plt.legend(loc='best')\n",
    "plt.xticks(range(len(log_losses)), classifi, rotation='vertical')\n",
    "\n",
    "#TODO: \n",
    "# 1. Grid search \n",
    "# 2. Plot this to see time vs accuracy vs error\n",
    "# 3. nn and sgd parameter\n",
    "# 4. Integrate the feature selection part - choose best feat\n",
    "# 5. Visualize teh knn clustering - kmapper"
   ]
  },
  {
   "cell_type": "code",
   "execution_count": 19,
   "metadata": {},
   "outputs": [
    {
     "data": {
      "text/plain": [
       "([<matplotlib.axis.XTick at 0x55440f0>,\n",
       "  <matplotlib.axis.XTick at 0x5530780>,\n",
       "  <matplotlib.axis.XTick at 0x11e875f8>,\n",
       "  <matplotlib.axis.XTick at 0x5568710>,\n",
       "  <matplotlib.axis.XTick at 0x5568c18>,\n",
       "  <matplotlib.axis.XTick at 0x55700f0>,\n",
       "  <matplotlib.axis.XTick at 0x5570550>,\n",
       "  <matplotlib.axis.XTick at 0x5568a58>,\n",
       "  <matplotlib.axis.XTick at 0x55708d0>,\n",
       "  <matplotlib.axis.XTick at 0x5570da0>,\n",
       "  <matplotlib.axis.XTick at 0x55772b0>,\n",
       "  <matplotlib.axis.XTick at 0x55777b8>,\n",
       "  <matplotlib.axis.XTick at 0x5577cc0>],\n",
       " <a list of 13 Text xticklabel objects>)"
      ]
     },
     "execution_count": 19,
     "metadata": {},
     "output_type": "execute_result"
    },
    {
     "data": {
      "image/png": "[encoded data removed]",
      "text/plain": [
       "<Figure size 432x288 with 1 Axes>"
      ]
     },
     "metadata": {},
     "output_type": "display_data"
    }
   ],
   "source": [
    "plt.plot(range_x, log_losses, label='Log loss')\n",
    "plt.plot(range_x[log_losses.index(min(log_losses))] , min(log_losses), 'r*')\n",
    "\n",
    "plt.legend(loc='best')\n",
    "plt.xticks(range(len(log_losses)), classifi, rotation='vertical')"
   ]
  },
  {
   "cell_type": "code",
   "execution_count": 20,
   "metadata": {},
   "outputs": [
    {
     "data": {
      "text/plain": [
       "([<matplotlib.axis.XTick at 0x55aa780>,\n",
       "  <matplotlib.axis.XTick at 0x55aa0b8>,\n",
       "  <matplotlib.axis.XTick at 0x14036b38>,\n",
       "  <matplotlib.axis.XTick at 0x55cf2b0>,\n",
       "  <matplotlib.axis.XTick at 0x55cf748>,\n",
       "  <matplotlib.axis.XTick at 0x55cfc50>,\n",
       "  <matplotlib.axis.XTick at 0x55d7198>,\n",
       "  <matplotlib.axis.XTick at 0x55d76a0>,\n",
       "  <matplotlib.axis.XTick at 0x55d7ba8>,\n",
       "  <matplotlib.axis.XTick at 0x11e87e80>,\n",
       "  <matplotlib.axis.XTick at 0x55df630>,\n",
       "  <matplotlib.axis.XTick at 0x55dfb00>,\n",
       "  <matplotlib.axis.XTick at 0x55ea0b8>],\n",
       " <a list of 13 Text xticklabel objects>)"
      ]
     },
     "execution_count": 20,
     "metadata": {},
     "output_type": "execute_result"
    },
    {
     "data": {
      "image/png": "[encoded data removed]",
      "text/plain": [
       "<Figure size 432x288 with 1 Axes>"
      ]
     },
     "metadata": {},
     "output_type": "display_data"
    }
   ],
   "source": [
    "plt.plot(range_x, rmse_loss, label='Rmse')\n",
    "plt.plot(range_x[rmse_loss.index(min(rmse_loss))] , min(rmse_loss), 'r*')\n",
    "locs, labels = plt.xticks()\n",
    "\n",
    "plt.legend(loc='best')\n",
    "plt.xticks(range(len(rmse_loss)), classifi, rotation='vertical')"
   ]
  },
  {
   "cell_type": "code",
   "execution_count": 21,
   "metadata": {},
   "outputs": [
    {
     "data": {
      "text/plain": [
       "([<matplotlib.axis.XTick at 0x56221d0>,\n",
       "  <matplotlib.axis.XTick at 0x5618ac8>,\n",
       "  <matplotlib.axis.XTick at 0x56434e0>,\n",
       "  <matplotlib.axis.XTick at 0x5643e80>,\n",
       "  <matplotlib.axis.XTick at 0x5648400>,\n",
       "  <matplotlib.axis.XTick at 0x56488d0>,\n",
       "  <matplotlib.axis.XTick at 0x5648da0>,\n",
       "  <matplotlib.axis.XTick at 0x564f2e8>,\n",
       "  <matplotlib.axis.XTick at 0x564f7f0>,\n",
       "  <matplotlib.axis.XTick at 0x15245f98>,\n",
       "  <matplotlib.axis.XTick at 0x565a240>,\n",
       "  <matplotlib.axis.XTick at 0x565a710>,\n",
       "  <matplotlib.axis.XTick at 0x565ac50>],\n",
       " <a list of 13 Text xticklabel objects>)"
      ]
     },
     "execution_count": 21,
     "metadata": {},
     "output_type": "execute_result"
    },
    {
     "data": {
      "image/png": "[encoded data removed]",
      "text/plain": [
       "<Figure size 432x288 with 1 Axes>"
      ]
     },
     "metadata": {},
     "output_type": "display_data"
    }
   ],
   "source": [
    "plt.plot(range_x, accuracy, label='Accuracy')\n",
    "plt.plot(range_x[accuracy.index(max(accuracy))] , max(accuracy), 'r*')\n",
    "locs, labels = plt.xticks()\n",
    "\n",
    "plt.legend(loc='best')\n",
    "plt.xticks(range(len(log_losses)), classifi, rotation='vertical')"
   ]
  },
  {
   "cell_type": "code",
   "execution_count": 22,
   "metadata": {},
   "outputs": [
    {
     "data": {
      "text/plain": [
       "([<matplotlib.axis.XTick at 0x568dcc0>,\n",
       "  <matplotlib.axis.XTick at 0x568d5f8>,\n",
       "  <matplotlib.axis.XTick at 0x568deb8>,\n",
       "  <matplotlib.axis.XTick at 0x56b49e8>,\n",
       "  <matplotlib.axis.XTick at 0x56b4e80>,\n",
       "  <matplotlib.axis.XTick at 0x56bb4a8>,\n",
       "  <matplotlib.axis.XTick at 0x56bb978>,\n",
       "  <matplotlib.axis.XTick at 0x56bbe48>,\n",
       "  <matplotlib.axis.XTick at 0x15254358>,\n",
       "  <matplotlib.axis.XTick at 0x5520470>,\n",
       "  <matplotlib.axis.XTick at 0x15254cc0>,\n",
       "  <matplotlib.axis.XTick at 0x1525e1d0>,\n",
       "  <matplotlib.axis.XTick at 0x1525e6d8>],\n",
       " <a list of 13 Text xticklabel objects>)"
      ]
     },
     "execution_count": 22,
     "metadata": {},
     "output_type": "execute_result"
    },
    {
     "data": {
      "image/png": "[encoded data removed]",
      "text/plain": [
       "<Figure size 432x288 with 1 Axes>"
      ]
     },
     "metadata": {},
     "output_type": "display_data"
    }
   ],
   "source": [
    "plt.plot(range_x, time_taken, label='Time')\n",
    "plt.plot(range_x[time_taken.index(min(time_taken))] , min(time_taken), 'r*')\n",
    "locs, labels = plt.xticks()\n",
    "\n",
    "plt.legend(loc='best')\n",
    "plt.xticks(range(len(time_taken)), classifi, rotation='vertical')"
   ]
  },
  {
   "cell_type": "code",
   "execution_count": null,
   "metadata": {},
   "outputs": [],
   "source": []
  }
 ],
 "metadata": {
  "kernelspec": {
   "display_name": "Python 3",
   "language": "python",
   "name": "python3"
  },
  "language_info": {
   "codemirror_mode": {
    "name": "ipython",
    "version": 3
   },
   "file_extension": ".py",
   "mimetype": "text/x-python",
   "name": "python",
   "nbconvert_exporter": "python",
   "pygments_lexer": "ipython3",
   "version": "3.6.4"
  }
 },
 "nbformat": 4,
 "nbformat_minor": 2
}
